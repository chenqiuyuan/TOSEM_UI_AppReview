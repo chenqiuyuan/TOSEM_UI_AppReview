{
 "metadata": {
  "language_info": {
   "codemirror_mode": {
    "name": "ipython",
    "version": 3
   },
   "file_extension": ".py",
   "mimetype": "text/x-python",
   "name": "python",
   "nbconvert_exporter": "python",
   "pygments_lexer": "ipython3",
   "version": "3.7.6-final"
  },
  "orig_nbformat": 2,
  "kernelspec": {
   "name": "python3",
   "display_name": "Python 3"
  }
 },
 "nbformat": 4,
 "nbformat_minor": 2,
 "cells": [
  {
   "cell_type": "markdown",
   "metadata": {},
   "source": [
    "# 1. 分析Github爬下来的issue和pull request （各种开源app的仓库）"
   ]
  },
  {
   "cell_type": "markdown",
   "metadata": {},
   "source": [
    "## 1.1 获得app的列表"
   ]
  },
  {
   "cell_type": "markdown",
   "metadata": {},
   "source": [
    "### 1.1.1 获得Google Play的列表,并写入到文件中"
   ]
  },
  {
   "cell_type": "code",
   "execution_count": 1,
   "metadata": {
    "tags": []
   },
   "outputs": [
    {
     "output_type": "stream",
     "name": "stdout",
     "text": "输出文件路径\n/mnt/d/Onedrive/Code/UIReviewAnalysis/src/analyze/GooglePlay_app_name.txt\n"
    }
   ],
   "source": [
    "import analyze_review\n",
    "analyze_review.write_app_list()"
   ]
  },
  {
   "cell_type": "markdown",
   "metadata": {},
   "source": [
    "### 1.1.2 获得Fdroid的app列表，并写入到文件中"
   ]
  },
  {
   "cell_type": "code",
   "execution_count": 2,
   "metadata": {
    "tags": []
   },
   "outputs": [
    {
     "output_type": "stream",
     "name": "stdout",
     "text": "Fdroid app的总数(不管是否存在)：\n6298\n输出文件路径\n/mnt/d/Onedrive/Code/UIReviewAnalysis/src/analyze/Fdroid_app_name.txt\n"
    }
   ],
   "source": [
    "!python /mnt/d/Onedrive/Code/UIReviewAnalysis/script/get_fdroid_app_list.py"
   ]
  },
  {
   "source": [
    "#### 对Fdroid的app的筛选与统计"
   ],
   "cell_type": "markdown",
   "metadata": {}
  },
  {
   "cell_type": "code",
   "execution_count": 3,
   "metadata": {
    "tags": []
   },
   "outputs": [
    {
     "output_type": "stream",
     "name": "stdout",
     "text": "Fdroid app总数：\n5192\n筛选后的总数(即源码地址为GitHub的)：\n2496\n"
    }
   ],
   "source": [
    "!python /mnt/d/Onedrive/Code/UIReviewAnalysis/script/get_fdroid_repo_list.py"
   ]
  },
  {
   "cell_type": "markdown",
   "metadata": {},
   "source": [
    "## 1.2 分析爬下来Fdroid的数据"
   ]
  },
  {
   "cell_type": "code",
   "execution_count": 4,
   "metadata": {
    "tags": []
   },
   "outputs": [
    {
     "output_type": "execute_result",
     "data": {
      "text/plain": "<module 'analyze_pull_request_and_issue' from '/mnt/d/Onedrive/Code/UIReviewAnalysis/src/analyze/analyze_pull_request_and_issue.py'>"
     },
     "metadata": {},
     "execution_count": 4
    }
   ],
   "source": [
    "%load_ext autoreload\n",
    "%autoreload 2\n",
    "import analyze_pull_request_and_issue as pi\n",
    "import keywords_search\n",
    "import analyze_review_reply\n",
    "from pprint import pprint\n",
    "import imp\n",
    "import pandas as pd\n",
    "imp.reload(pi)"
   ]
  },
  {
   "cell_type": "markdown",
   "metadata": {},
   "source": [
    "### 1.2.1 计算两个数据之间的overlap"
   ]
  },
  {
   "cell_type": "code",
   "execution_count": 5,
   "metadata": {
    "tags": []
   },
   "outputs": [
    {
     "output_type": "stream",
     "name": "stdout",
     "text": "\u001b[31m同时存在于Google Play和Fdroid中的app的数量\u001b[0m\n1046\n"
    }
   ],
   "source": [
    "data, app_list = pi.get_google_play_in_fdroid_data()"
   ]
  },
  {
   "cell_type": "markdown",
   "metadata": {
    "tags": []
   },
   "source": [
    "### 1.2.2 基本数据的统计"
   ]
  },
  {
   "cell_type": "code",
   "execution_count": 6,
   "metadata": {
    "tags": []
   },
   "outputs": [
    {
     "output_type": "stream",
     "name": "stdout",
     "text": "\u001b[31m同时存在于Google Play和Fdroid中的app的数量\u001b[0m\n1046\n\u001b[31m数据的字段\u001b[0m\n['issue_url',\n 'user_name',\n 'owner_repo',\n 'types',\n 'create_time',\n 'update_time',\n 'state',\n 'title',\n 'text']\n\u001b[31mIssue + Pull Request总量\u001b[0m\n127049\n\u001b[31mPull request的数量\u001b[0m\n48484\n\u001b[31mIssue的数量\u001b[0m\n78565\n\u001b[31mApp的数量\u001b[0m\n434\n"
    }
   ],
   "source": [
    "pi.count()"
   ]
  },
  {
   "cell_type": "code",
   "execution_count": 7,
   "metadata": {
    "tags": []
   },
   "outputs": [
    {
     "output_type": "stream",
     "name": "stdout",
     "text": "\u001b[31mFdroid包含的所有的（有GitHub地址的）app数量\u001b[0m\n2496\n\u001b[31m爬取到的项目\u001b[0m\n2493\n\u001b[31m不存在的项目\u001b[0m\n3\n"
    }
   ],
   "source": [
    "# TODO,重新处理一下log的编码\n",
    "pi.process_log()"
   ]
  },
  {
   "cell_type": "code",
   "execution_count": 8,
   "metadata": {
    "tags": []
   },
   "outputs": [
    {
     "output_type": "stream",
     "name": "stdout",
     "text": "\u001b[31m官方提供的（有GitHub地址的）app数量\u001b[0m\n2496\n"
    }
   ],
   "source": [
    "pi.process_list()"
   ]
  },
  {
   "cell_type": "markdown",
   "metadata": {},
   "source": [
    "## 1.3 UI相关问题的分析"
   ]
  },
  {
   "cell_type": "markdown",
   "metadata": {},
   "source": [
    "### 1.3.1 首先是要利用UI关键词搜索相关的issue和pull request。"
   ]
  },
  {
   "cell_type": "code",
   "execution_count": 9,
   "metadata": {
    "tags": []
   },
   "outputs": [
    {
     "output_type": "stream",
     "name": "stdout",
     "text": "\u001b[31m同时存在于Google Play和Fdroid中的app的数量\u001b[0m\n1046\n"
    }
   ],
   "source": [
    "data, app_list = pi.get_google_play_in_fdroid_data()"
   ]
  },
  {
   "cell_type": "code",
   "execution_count": 10,
   "metadata": {},
   "outputs": [],
   "source": [
    "#click\n",
    "#legend\n",
    "keywords = keywords_search.get_keywords()"
   ]
  },
  {
   "cell_type": "code",
   "execution_count": 11,
   "metadata": {
    "tags": []
   },
   "outputs": [
    {
     "output_type": "stream",
     "name": "stdout",
     "text": "\u001b[31m搜索并分析UI相关的pull request和issue\u001b[0m\n\u001b[31m同时存在于Google Play和Fdroid中的app的数量\u001b[0m\n1046\n\u001b[31m小测试：pandas中两个column的字符可以直接完成拼接\u001b[0m\n\u001b[31m字符A\u001b[0m\nAdd Slovak dictionary\n\u001b[31m字符B\u001b[0m\nMade it with aosp-dictionary-tools from https://github.com/hermitdave/FrequencyWords/tree/master/content/2018/sk.\nFiltering it from all the junk was quite a pain but in the end, I think what I made is quite a decent dictionary.\n\nShould I also submit this to Lineage? \n\u001b[31m字符A+B data['title'] + '\\n' + data['text']\u001b[0m\nAdd Slovak dictionary\nMade it with aosp-dictionary-tools from https://github.com/hermitdave/FrequencyWords/tree/master/content/2018/sk.\nFiltering it from all the junk was quite a pain but in the end, I think what I made is quite a decent dictionary.\n\nShould I also submit this to Lineage? \n\u001b[31mUI关键词数量\u001b[0m\n55\n\u001b[31m搜索出来的UI相关的数量\u001b[0m\n31947\n\u001b[31mUI相关的占比\u001b[0m\n25.145%\n"
    }
   ],
   "source": [
    "data_ui = pi.search_ui_issue_and_pr()"
   ]
  },
  {
   "cell_type": "markdown",
   "metadata": {},
   "source": [
    "### 1.3.2 分别统计找到的issue和pull request"
   ]
  },
  {
   "cell_type": "code",
   "execution_count": 12,
   "metadata": {
    "tags": []
   },
   "outputs": [
    {
     "output_type": "stream",
     "name": "stdout",
     "text": "\u001b[31m搜索出来的UI相关的pull request数量以及占比\u001b[0m\n9567\n19.732%\n\u001b[31mOpen的pull request及占比\u001b[0m\n271\n2.833%\n\u001b[31mClosed的pull request及占比\u001b[0m\n9296\n97.167%\n\u001b[31m搜索出来的UI相关的issue数量以及占比\u001b[0m\n22380\n0.285%\n\u001b[31mOpen的issue及占比\u001b[0m\n4833\n21.595%\n\u001b[31mClosed的issue及占比\u001b[0m\n17547\n78.405%\n"
    }
   ],
   "source": [
    "ui_pull_request, ui_issue = pi.count_ui_issue_and_pr(data, data_ui)"
   ]
  },
  {
   "cell_type": "markdown",
   "metadata": {},
   "source": [
    "### 1.3.3 进行sample，99%的置信度，5%的置信区间"
   ]
  },
  {
   "cell_type": "code",
   "execution_count": 13,
   "metadata": {
    "tags": []
   },
   "outputs": [
    {
     "output_type": "stream",
     "name": "stdout",
     "text": "\u001b[31m采样的pull request数量\u001b[0m\n622\n\u001b[31m采样的issue的数量\u001b[0m\n646\n\u001b[31mSample中open的pull request\u001b[0m\n16\n\u001b[31mSample中closed的pull request\u001b[0m\n606\n\u001b[31mSample中open的issue\u001b[0m\n155\n\u001b[31mSample中closed的issue\u001b[0m\n491\n"
    }
   ],
   "source": [
    "import sample_size\n",
    "pi.red(\"采样的pull request数量\")\n",
    "pull_request_number = sample_size.calculate_size(2.58, 0.05, 9567)\n",
    "print(pull_request_number)\n",
    "pi.red(\"采样的issue的数量\")\n",
    "issue_number = sample_size.calculate_size(2.58, 0.05, 22380)\n",
    "print(issue_number)\n",
    "\n",
    "# 先只看issue\n",
    "# 确定随机种子并采样issue\n",
    "SEED = 666\n",
    "sample_pull_request = ui_pull_request.sample(n=622, random_state=SEED)\n",
    "pi.red(\"Sample中open的pull request\")\n",
    "open_sample_pull_request = sample_pull_request[sample_pull_request[\"state\"] == \"open\"]\n",
    "print(len(open_sample_pull_request))\n",
    "pi.red(\"Sample中closed的pull request\")\n",
    "closed_sample_pull_request = sample_pull_request[sample_pull_request[\"state\"] == \"closed\"]\n",
    "print(len(closed_sample_pull_request))\n",
    "sample_issue = ui_issue.sample(n=646, random_state=SEED)\n",
    "pi.red(\"Sample中open的issue\")\n",
    "open_sample_issue = sample_issue[sample_issue[\"state\"] == \"open\"]\n",
    "print(len(open_sample_issue))\n",
    "pi.red(\"Sample中closed的issue\")\n",
    "closed_sample_issue = sample_issue[sample_issue[\"state\"] == \"closed\"]\n",
    "print(len(closed_sample_issue))"
   ]
  },
  {
   "cell_type": "markdown",
   "metadata": {},
   "source": [
    "### 1.3.4 将采样的输出为html格式，并且高亮关键词"
   ]
  },
  {
   "cell_type": "code",
   "execution_count": 14,
   "metadata": {
    "tags": []
   },
   "outputs": [
    {
     "output_type": "error",
     "ename": "TypeError",
     "evalue": "color_html() missing 1 required positional argument: 'file'",
     "traceback": [
      "\u001b[0;31m---------------------------------------------------------------------------\u001b[0m",
      "\u001b[0;31mTypeError\u001b[0m                                 Traceback (most recent call last)",
      "\u001b[0;32m<timed exec>\u001b[0m in \u001b[0;36m<module>\u001b[0;34m\u001b[0m\n",
      "\u001b[0;31mTypeError\u001b[0m: color_html() missing 1 required positional argument: 'file'"
     ]
    }
   ],
   "source": [
    "%%time\n",
    "html_pull_request = keywords_search.color_html(sample_pull_request['sentences'], keywords=keywords)\n",
    "html_issue = keywords_search.color_html(sample_issue['sentences'], keywords=keywords)\n",
    "pi.red(\"Pull request的一个例子\")\n",
    "print(html_pull_request[:1])\n",
    "pi.red(\"Issue的一个例子\")\n",
    "print(html_issue[:1])"
   ]
  },
  {
   "cell_type": "code",
   "execution_count": 15,
   "metadata": {
    "tags": []
   },
   "outputs": [
    {
     "output_type": "stream",
     "name": "stdout",
     "text": "CPU times: user 219 ms, sys: 46.9 ms, total: 266 ms\nWall time: 224 ms\n"
    }
   ],
   "source": [
    "%%time\n",
    "html_pull_request = keywords_search.color_html(sample_pull_request['sentences'], \n",
    "                                                keywords, \n",
    "                                                \"sample_ui_pull_request_sample_check.html\")\n",
    "html_issue = keywords_search.color_html(sample_issue['sentences'], \n",
    "                                        keywords,\n",
    "                                        \"sample_ui_issue_check.html\")"
   ]
  },
  {
   "cell_type": "markdown",
   "metadata": {},
   "source": [
    "### 1.3.5 统计标记的数据"
   ]
  },
  {
   "cell_type": "code",
   "execution_count": 16,
   "metadata": {
    "tags": []
   },
   "outputs": [
    {
     "output_type": "stream",
     "name": "stdout",
     "text": "\u001b[31m统计UI issue的数量\u001b[0m\nappearance     398\ninteraction    137\nexperience      73\n0               23\nothers          15\nName: category, dtype: int64\n\u001b[31m统计UI issue的比例\u001b[0m\nappearance     0.616099\ninteraction    0.212074\nexperience     0.113003\n0              0.035604\nothers         0.023220\nName: category, dtype: float64\n\u001b[31m统计Issue type的数量\u001b[0m\nlayout           139\ncolor            134\ngesture           90\nimage             86\nnavigation        49\nicon              33\nmotion            29\ncustomization     25\n0                 20\nmaterial          15\nfeedback          10\ntext               6\nnotification       4\n(interface)        3\n(ugly)             1\naccessibility      1\nscreen             1\nName: subcategory, dtype: int64\n\u001b[31m统计Issue type的比例\u001b[0m\nlayout           0.215170\ncolor            0.207430\ngesture          0.139319\nimage            0.133127\nnavigation       0.075851\nicon             0.051084\nmotion           0.044892\ncustomization    0.038700\n0                0.030960\nmaterial         0.023220\nfeedback         0.015480\ntext             0.009288\nnotification     0.006192\n(interface)      0.004644\n(ugly)           0.001548\naccessibility    0.001548\nscreen           0.001548\nName: subcategory, dtype: float64\n"
    }
   ],
   "source": [
    "labels = pd.read_csv(\"label_ui_issue_category.txt\", header=None, sep=\" \", names=['category', 'subcategory'])\n",
    "pi.red(\"统计UI issue的数量\")\n",
    "print(labels['category'].value_counts())\n",
    "pi.red(\"统计UI issue的比例\")\n",
    "print(labels['category'].value_counts(normalize=True))\n",
    "pi.red(\"统计Issue type的数量\")\n",
    "print(labels['subcategory'].value_counts())\n",
    "pi.red(\"统计Issue type的比例\")\n",
    "print(labels['subcategory'].value_counts(normalize=True))"
   ]
  },
  {
   "cell_type": "markdown",
   "metadata": {},
   "source": [
    "# 2. 分析review和reply"
   ]
  },
  {
   "cell_type": "code",
   "execution_count": 17,
   "metadata": {
    "tags": []
   },
   "outputs": [
    {
     "output_type": "stream",
     "name": "stdout",
     "text": "\u001b[31mRQ2中的各种数据的统计。\u001b[0m\n\u001b[31m统计Advice中interaction的数量\u001b[0m\n\u001b[31mAdvice的数量\u001b[0m\n107\n\u001b[31mAdvice中interaction的数量\u001b[0m\n43\n\u001b[31mAdvice中interaction中navigation的数量及占比\u001b[0m\n20\n46.512%\n\u001b[31mAdvice中interaction中gesture的数量及占比\u001b[0m\n16\n37.209%\n\u001b[31m统计Advice中experience的数量\u001b[0m\n31\n\u001b[31mAdvice中experience中customization的数量及占比\u001b[0m\n15\n48.387%\n\u001b[31m以advice为例，统计不同的dialogue中，四个category和17个subcategory的各种分布\u001b[0m\ninteraction               39\nappearance                32\nexperience                28\nappearance/interaction     2\nappearance/experience      2\ninteraction/appearance     1\nothers                     1\nexperience/interaction     1\nName: Category, dtype: int64\nnavigation                              17\ncustomization limitation                14\ngesture                                 13\nimage                                   10\nfeedback                                10\nlayout                                   9\nnotification                             7\niconography                              6\ncolor                                    4\nadvertisement                            2\ntypography                               2\nnavigation/gesture                       1\nmotion/gesture                           1\ntypography/color                         1\nimage/gesture                            1\nnotification/color                       1\nnavigation/interaction                   1\niconography/customization limitation     1\nlayout/navigation                        1\ncomparative                              1\nadvice                                   1\nfeedback/gesture                         1\niconography/accessibility                1\nName: Subcategory, dtype: int64\n"
    }
   ],
   "source": [
    "pi.red(\"RQ2中的各种数据的统计。\")\n",
    "analyze_review_reply.analyze_advice_interaction()\n",
    "\n",
    "analyze_review_reply.analyze_advice_experience()\n",
    "analyze_review_reply.analyze_count()"
   ]
  }
 ]
}