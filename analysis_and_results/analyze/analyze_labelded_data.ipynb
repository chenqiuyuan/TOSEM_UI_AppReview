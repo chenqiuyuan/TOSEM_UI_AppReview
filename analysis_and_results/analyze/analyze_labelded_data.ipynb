{
 "metadata": {
  "language_info": {
   "codemirror_mode": {
    "name": "ipython",
    "version": 3
   },
   "file_extension": ".py",
   "mimetype": "text/x-python",
   "name": "python",
   "nbconvert_exporter": "python",
   "pygments_lexer": "ipython3",
   "version": "3.7.6-final"
  },
  "orig_nbformat": 2,
  "kernelspec": {
   "name": "Python 3.7.6 64-bit ('base': conda)",
   "display_name": "Python 3.7.6 64-bit ('base': conda)",
   "metadata": {
    "interpreter": {
     "hash": "bff3a09253b919f5b323a21d22b8cf35e4f790fcdbcb251b221cb7b2e4a43851"
    }
   }
  }
 },
 "nbformat": 4,
 "nbformat_minor": 2,
 "cells": [
  {
   "source": [
    "# 0. 引用"
   ],
   "cell_type": "markdown",
   "metadata": {}
  },
  {
   "cell_type": "code",
   "execution_count": 1,
   "metadata": {
    "tags": []
   },
   "outputs": [],
   "source": [
    "%load_ext autoreload\n",
    "%autoreload 2\n",
    "import analyze_review_reply\n",
    "import analyze_review\n",
    "import pandas as pd\n",
    "from glob import glob\n",
    "# TODO 合并analyze_review_reply和analyze_review.py"
   ]
  },
  {
   "source": [
    "# 1. 分析实验中采样的数据"
   ],
   "cell_type": "markdown",
   "metadata": {}
  },
  {
   "source": [
    "## 1.1 UI review的采样数据及统计"
   ],
   "cell_type": "markdown",
   "metadata": {}
  },
  {
   "cell_type": "code",
   "execution_count": 2,
   "metadata": {
    "tags": []
   },
   "outputs": [
    {
     "output_type": "stream",
     "name": "stdout",
     "text": "统计各个UI category （包括多标签）\n{&#39;appearance&#39;: 329, &#39;interaction&#39;: 303, &#39;experience&#39;: 369, &#39;others&#39;: 468, &#39;FALSE&#39;: 22}\n统计各个UI types（包括多标签）\n{&#39;layout&#39;: 62, &#39;color&#39;: 50, &#39;typography&#39;: 73, &#39;iconography&#39;: 73, &#39;image&#39;: 73, &#39;navigation&#39;: 75, &#39;notification&#39;: 117, &#39;motion&#39;: 35, &#39;gesture&#39;: 70, &#39;accessibility&#39;: 22, &#39;redundancy&#39;: 112, &#39;customization limitation&#39;: 108, &#39;advertisement&#39;: 53, &#39;feedback&#39;: 94, &#39;generic evaluation&#39;: 232, &#39;comparative review&#39;: 142, &#39;material&#39;: 95, &#39;FALSE&#39;: 22}\nFalse positive的数量以及比例\n22\n0.014976174268209666\n"
    }
   ],
   "source": [
    "all_label = pd.read_csv(\"label_app_review.csv\", encoding=\"utf_8_sig\")\n",
    "all_label[\"SUBCATEGORY\"] = all_label[\"SUBCATEGORY\"].fillna(\"FALSE\")\n",
    "\n",
    "analyze_review.count_category(all_label)\n",
    "analyze_review.count_subcategory(all_label)"
   ]
  },
  {
   "source": [
    "## 1.2 分析UI review reply的采样数据及统计"
   ],
   "cell_type": "markdown",
   "metadata": {}
  },
  {
   "cell_type": "code",
   "execution_count": 3,
   "metadata": {
    "tags": []
   },
   "outputs": [
    {
     "output_type": "stream",
     "name": "stdout",
     "text": "统计各个UI category （包括多标签）\n{&#39;appearance&#39;: 0, &#39;interaction&#39;: 0, &#39;experience&#39;: 0, &#39;others&#39;: 0, &#39;False&#39;: 0}\n统计各个pattern（包括多标签）\n{&#39;apology or appreciation&#39;: 255, &#39;advice&#39;: 106, &#39;information request&#39;: 141, &#39;justify&#39;: 70, &#39;promise&#39;: 68, &#39;inform&#39;: 59, &#39;unspecify&#39;: 34, &#39;False&#39;: 12}\nFalse positive的数量以及比例\n12\n0.015463917525773196\n"
    }
   ],
   "source": [
    "files = sorted(glob(\"review_reply_*.xlsx\"))\n",
    "data_list = [pd.read_excel(f) for f in files]\n",
    "all_review_reply = pd.concat(data_list)\n",
    "all_review_reply.dropna(subset=[\"REPLY\", \"CATEGORY\"], inplace=True)\n",
    "\n",
    "analyze_review_reply.count_category(all_review_reply)\n",
    "analyze_review_reply.count_reply(all_review_reply)"
   ]
  },
  {
   "cell_type": "code",
   "execution_count": 4,
   "metadata": {
    "tags": []
   },
   "outputs": [
    {
     "output_type": "stream",
     "name": "stdout",
     "text": "Index([&#39;REVIEW_ID&#39;, &#39;APP_ID&#39;, &#39;PACKAGE_NAME&#39;, &#39;RATING&#39;, &#39;REVIEW_DATE&#39;,\n       &#39;REVIEW_TITLE&#39;, &#39;REVIEW_TEXT&#39;, &#39;REPLY_TEXT&#39;, &#39;REPLY_DATE&#39;,\n       &#39;REVIEWER_NAME&#39;, &#39;CATEGORY&#39;, &#39;PRIMARY_CATEGORY&#39;, &#39;SUBCATEGORY&#39;,\n       &#39;PRIMARY_SUBCATEGORY&#39;, &#39;REPLY&#39;, &#39;HANDLED&#39;, &#39;IS_FREE&#39;],\n      dtype=&#39;object&#39;)\nothers         468\nexperience     362\nappearance     318\ninteraction    297\nFALSE           22\nName: PRIMARY_CATEGORY, dtype: int64\nSeries([], Name: PRIMARY_CATEGORY, dtype: object)\n"
    }
   ],
   "source": [
    "print(all_label.columns)\n",
    "print(all_label[\"PRIMARY_CATEGORY\"].value_counts())\n",
    "print(all_label[all_label[\"PRIMARY_CATEGORY\"] == \"others \"][\"PRIMARY_CATEGORY\"])\n"
   ]
  },
  {
   "cell_type": "code",
   "execution_count": 5,
   "metadata": {
    "tags": []
   },
   "outputs": [
    {
     "output_type": "stream",
     "name": "stdout",
     "text": "798\n669\nAll_label\n"
    },
    {
     "output_type": "execute_result",
     "data": {
      "text/plain": "PRIMARY_SUBCATEGORY\naccessibility               0.380952\nadvertisement               0.653846\ncolor                       0.152174\ncomparative review          0.901408\ncustomization limitation    0.215686\nfeedback                    0.526882\ngeneric evaluation          0.155172\ngesture                     0.540984\niconography                 0.342857\nimage                       0.382353\nlayout                      0.440678\nmaterial                    0.294737\nmotion                      0.323529\nnavigation                  0.328767\nnotification                0.389381\nredundancy                  0.428571\ntypography                  0.319444\ndtype: float64"
     },
     "metadata": {},
     "execution_count": 5
    }
   ],
   "source": [
    "def f(x):\n",
    "    name = x[\"PRIMARY_SUBCATEGORY\"].value_counts().index[0]\n",
    "    # print(name)\n",
    "    # print(len(x))\n",
    "    low_rating = len(x[x[\"RATING\"] < 3])\n",
    "    ratio = low_rating / len(x)\n",
    "    # message = \"Category: %s, low rating ratio: %.2f\" % (name, ratio)\n",
    "    # print(message)\n",
    "    return ratio\n",
    "\n",
    "free = all_label[all_label[\"IS_FREE\"] == 1]\n",
    "print(len(free))\n",
    "non_free = all_label[all_label[\"IS_FREE\"] == 0]\n",
    "print(len(non_free))\n",
    "print(\"All_label\")\n",
    "all_label.groupby([\"PRIMARY_SUBCATEGORY\"]).apply(f)"
   ]
  },
  {
   "cell_type": "code",
   "execution_count": 6,
   "metadata": {
    "tags": []
   },
   "outputs": [
    {
     "output_type": "stream",
     "name": "stdout",
     "text": "FREE\nNON_FREE\n"
    }
   ],
   "source": [
    "print(\"FREE\")\n",
    "free_ratio = free.groupby([\"PRIMARY_SUBCATEGORY\"]).apply(f)\n",
    "print(\"NON_FREE\")\n",
    "non_free_ratio = non_free.groupby([\"PRIMARY_SUBCATEGORY\"]).apply(f)"
   ]
  },
  {
   "cell_type": "code",
   "execution_count": 7,
   "metadata": {
    "tags": []
   },
   "outputs": [
    {
     "output_type": "stream",
     "name": "stdout",
     "text": "                          free_ratio  non_free_ratio\nPRIMARY_SUBCATEGORY                                 \naccessibility               0.363636        0.400000\nadvertisement               0.659574        0.600000\ncolor                       0.166667        0.136364\ncomparative review          0.924812        0.555556\ncustomization limitation    0.241935        0.175000\n                free_ratio  non_free_ratio\nfree_ratio        1.000000        0.545204\nnon_free_ratio    0.545204        1.000000\n"
    },
    {
     "output_type": "execute_result",
     "data": {
      "text/plain": "SpearmanrResult(correlation=0.5122549019607844, pvalue=0.03552652411689097)"
     },
     "metadata": {},
     "execution_count": 7
    }
   ],
   "source": [
    "from scipy.stats import spearmanr\n",
    "data = pd.DataFrame({\"free_ratio\": free_ratio, \"non_free_ratio\": non_free_ratio})\n",
    "print(data.head())\n",
    "print(data.corr())\n",
    "spearmanr(free_ratio, non_free_ratio)"
   ]
  },
  {
   "cell_type": "code",
   "execution_count": 22,
   "metadata": {
    "tags": []
   },
   "outputs": [
    {
     "output_type": "stream",
     "name": "stdout",
     "text": "Index([&#39;REVIEW_ID&#39;, &#39;APP_ID&#39;, &#39;PACKAGE_NAME&#39;, &#39;RATING&#39;, &#39;REVIEW_DATE&#39;,\n       &#39;REVIEW_TITLE&#39;, &#39;REVIEW_TEXT&#39;, &#39;REPLY_TEXT&#39;, &#39;REPLY_DATE&#39;,\n       &#39;REVIEWER_NAME&#39;, &#39;CATEGORY&#39;, &#39;PRIMARY_CATEGORY&#39;, &#39;SUBCATEGORY&#39;,\n       &#39;PRIMARY_SUBCATEGORY&#39;, &#39;REPLY&#39;, &#39;HANDLED&#39;, &#39;IS_FREE&#39;],\n      dtype=&#39;object&#39;)\n5\n113343640\nIt speaks for itself easy to use and just like the reall deal. Thought it is free. If we dont have coins then we must purchase. Otherwise must wait upto 4 hours for free bonuses\n5\n110338463\nExcellent and easy to use\n5\n96838445\nI&#39;m currently in school for basic electrical training and this game has helped me understand logic gates more than my teacher ever could! Thank you a thousand times over!! P. S. You should have a screen pop up explaining the spinning yinyang as an inverter.\n5\n102540956\nVery easy to use and well made.\n5\n109867069\nGreat app. It is easy to use for keep tracking the latest publications. Thanks a lot.\n4\n119821479\nThe app is awesome but I suggest Inshot Inc. to add the feature of screen mirroring\n5\n103322571\nregarding the grey screen it is gone now works like a charm\n5\n111808426\nVery user friendly app. When I had a tech question sent email with quick fix response. Thank you!\n5\n100405443\nI love this sports app easy to use real time updates you can follow multiple teams on multiple leagues and you can customize the notifications to thu our liking.\n4\n96319977\nI like the new feature fingerprint login a lot! Keep it up. This app is getting better. The next one im looking for would be color configuration for those studies and be able to set alert in the same screen of the ticker(then i do not need to go alert page).\n5\n107876571\nUser friendly app\n5\n114781354\nLove that I can share pictures with chosen family and friends. The app also saves pictures with the baby&#39;s age  so you&#39;ll never forget!\n4\n104535232\nWould be better if its more similar to Dead By Daylight cus I like the design of the DBD maps. Eg change the rocket chairs to hooks. Now the problem is that the ms or ping in the game is really bad sometimes the ping just shoots up and u cant do anything. Sometimes im having really good games but just get screwed over by ping.\n5\n96594276\nEdit::: ***Its working great now. Both my sony and lg smart tvs. Thanks for informing me. Good customer support. Also add support remote for other smart TVs.*** Support staff i need it for my new Sony Bravia Android TV. The android remote is not working. With my LG smart tv it is working perfectly. Good thing is that it is very easy to use. Just select your TV and use it. Nothing else. For me it worked so straight 5 stars.....keep up the good work.\n4\n96545115\nUnfortunately our preschool doesn&#39;t use this but they should. The user interface is very well designed and the feature set is impressive.\n5\n108447960\nI&#39;ve been using the app for 30 days and I&#39;ve lost 8 pounds which is great for me! It&#39;s easy to use and has motivated me to keep going since I&#39;ve not been successful with losing weight for the past 6 years!\n5\n105588534\nEasy to use update save etc. Best bit is updating offline to be synced when back online. Great there doesn&#39;t appear to be a limit on photos per post too! Only downside is no video upload available. Yet to see what the finished book will be like but I&#39;m sure it will be prohibitively expensive for my ridiculously long and very many posts hahaha\n4\n96905152\nI would be interested in upgrading to the premium version when it gets a few updates. 1. It needs the option for a dark theme 2. The ability to mark items as paid without the extra pop-up to add a note. This should be an option in the settings. 3. More customization options for the buttons. Different colors etc and there isn&#39;t a good gym button option a symbol of weights would be nice I absolutely love that there is an autopay feature to make it easier to track the ones that need to be manually paid! This is the closest app to having all the features I&#39;m looking for. With a few updates I won&#39;t need to look for an alternative and this will be my source.\n4\n103756344\nSomething went wrong with the app when I first installed it the app worked fine with the 3g/4g on my phone now not at all. Can you fix this issue. Update the app is working properly and provides real time images and video. customer service helped a lot. Only bad thing is its only through email.\n4\n111333922\nWas good... Was a good &amp; pretty accurate app but now not working with nothing but blank screen showing!! Oh but irritating unwanted distracting ads still work strange. Will continue to lower rating until fixed..\n5\n100558771\nMy little 14 month niece loves this game. I had to get ad free though because there&#39;s an ad right at the top of the game screen and I didn&#39;t want her to accidentally click it. Other than that its fairly child proof\n4\n108447568\nAdding foods or meals is easy with this app. Pretty simple to use. If this app had a workout tracker i would give it 5 stars.\n4\n98552864\nI like the app only reason for 4 stars is I will get notifications on my phone click on the phrase and it takes me to the app without directing me to what the notification was talking about. Most times the notification text is cut off and I want to read it all but it just directs me to the generic main screen of the app without any details on the notification.\n5\n111810347\nGreat app. Clients love that I send them reminders as I do too. Easy and simple to use. Great customer service.  \n5\n115889829\nApp is easy to use and service is VERY affordable and keeps getting better and better. Don&#39;t know why ANYONE would pay more their best plans are fast enough for anything you need to do good coverage and customer service is very helpful.\n5\n111810451\nAppointfix SMS will not work on a Huawei 9 and 10 phone it might be Huawei emui causing the problem.. by that I mean it will send a SMS reminder but that reminder will not show up on your messenger. Have tried Google messenger did not work and running Huawei on Android v7. Can confirm same issue with Android v8. Lovely application and appointfix been a pleasure to deal with but SMS record didn&#39;t work. :( Hopefully they&#39;ll get it fixed soon.\n5\n113168774\nit&#39;s a good way to check your skin condition daily if you change a spot to snap the photo it might affect your skin age I recommend who are going to try this apps choose a fixed spot with nice light in front of you to snap the daily check so u will have a better and accurate results !! in many ways I love this apps it&#39;s really keep reminding me how and why I should keep the good daily routine!\n4\n114001471\nThis is an excellent app. It has a few things that make it superior to other list making apps. The main thing is the input interface. It allows for multiple selection of things without flipping back to the original list. And the best feature so far is that the voice input will separate items if you say and in between the different items on your list. The only problem is that voice input stops listening too quickly. It needs a longer silence tolerance so it doesn&#39;t cut me off while I&#39;m listing things. Other than that so far it&#39;s just what I was looking for.\n4\n85230549\nDefinitely inexpensive But it&#39;s not good at tracking orders I&#39;ve received 3 of my orders early but I never got my received package notification and it&#39;s been a week according to wish my packages are still somewhere else\n4\n56926233\nGreat app beautiful interface. Gives timely updates. Avoid usage during driving.\n5\n110501042\nSuper easy to use. Easy to filter for clear text; easy to upload to cloud storage (choice between JPG or PDF is great); easy all around. More than enough features come with the free version but the ability to edit/annotate/sign new scans or imported docs makes the cost of the pro version totally worth it for me.\n4\n108446245\nI&#39;m new to tracking macros so this makes it very easy. It&#39;s nicely designed and easy to learn. BUT some custom foods I have scanned in are then listed with zeroes in all the macro fields and you have to edit them one by one OR if you make a mistake there is no way to delete a custom entered food. Just a small bother but a bother still. Otherwise I am getting a lot of good use out of this app!\n5\n97000144\nThe app is super nice and easy to use and navigate. I love all the items I have received I&#39;ll never go back to shopping in a store again.\n5\n122634538\nEasy to use. Good filters options. No hidden fees\n4\n105873786\nNice app. It would be great if there is an option to sort stores based on discount % in browse screen.\n5\n110498383\nI&#39;m giving it 5/5 again because recent changes restored old filter icons (opposed to previews which were terrible to work with). Additionally fine tuning option has been finally introduced to let us manually set the parameters for low-colour filters. It seems to be stable aswell so I can finally recommend it. Good job guys.\n5\n110974347\nWell I need to make my update. Its dosen&#39;t work properly with New Uber app and stop recording our screen no body trust in someone&#39;s app who need record screen.\n5\n103964834\nFast and convenient with multiple options and easy to navigate menus.\n5\n108793418\nI have a hard time getting around. I think this app is wonderful. I don&#39;t have to depend on someone to drive me to WU. Easy to use and the quickest way to send money.\n4\n122723264\nDISAPPOINTING pretty UPDATE is NOT user friendly. I&#39;ve had Hulu yrs &amp; hate I can&#39;t C MY orig list hi-lite NEW episodes can&#39;t turn off autoplay can&#39;t delete unwanted shows frm My  List! FOCUS should&#39;ve been on EASE of navigation &amp; our personalized viewing. INSTEAD we got PRETTYnPINK &amp; added irritating &amp; endless scrolls &amp; swipes! 5yrs ago I chose Hulu 4 affordability 2watch fav shows. BUT if Hulu turns deaf ear on quite a few MAIN customer issues may hv 2 use Netflix only.\n"
    }
   ],
   "source": [
    "reviews = pd.read_csv(\"label_app_review.csv\")\n",
    "print(reviews.columns)\n",
    "high_rank = reviews[reviews[\"RATING\"] > 3][['RATING', 'REVIEW_ID', 'REVIEW_TEXT']]\n",
    "for index, r in high_rank[10:50].iterrows():\n",
    "    print(r[\"RATING\"])\n",
    "    print(r[\"REVIEW_ID\"])\n",
    "    print(r[\"REVIEW_TEXT\"])"
   ]
  },
  {
   "source": [
    "### 在论文中使用的一个例子\n",
    "Rank: 5\n",
    "\n",
    "Reveiw ID：110498383\n",
    "\n",
    "Text：I'm giving it 5/5 again because recent changes restored old filter icons (opposed to previews which were terrible to work with). Additionally fine tuning option has been finally introduced to let us manually set the parameters for low-colour filters. It seems to be stable aswell so I can finally recommend it. Good job guys."
   ],
   "cell_type": "markdown",
   "metadata": {}
  },
  {
   "cell_type": "code",
   "execution_count": null,
   "metadata": {},
   "outputs": [],
   "source": []
  }
 ]
}