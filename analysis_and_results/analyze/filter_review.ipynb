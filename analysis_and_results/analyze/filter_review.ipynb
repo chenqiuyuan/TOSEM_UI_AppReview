{
 "metadata": {
  "language_info": {
   "codemirror_mode": {
    "name": "ipython",
    "version": 3
   },
   "file_extension": ".py",
   "mimetype": "text/x-python",
   "name": "python",
   "nbconvert_exporter": "python",
   "pygments_lexer": "ipython3",
   "version": "3.7.6-final"
  },
  "orig_nbformat": 2,
  "kernelspec": {
   "name": "python3",
   "display_name": "Python 3"
  }
 },
 "nbformat": 4,
 "nbformat_minor": 2,
 "cells": [
  {
   "cell_type": "markdown",
   "metadata": {},
   "source": [
    "# 对App review的分析"
   ]
  },
  {
   "cell_type": "markdown",
   "metadata": {},
   "source": [
    "## 0. 引用"
   ]
  },
  {
   "cell_type": "code",
   "execution_count": 1,
   "metadata": {
    "tags": []
   },
   "outputs": [],
   "source": [
    "%load_ext autoreload\n",
    "%autoreload 2\n",
    "import pandas as pd\n",
    "import analyze_review\n",
    "from analyze_review import red\n",
    "import sample_size\n",
    "import keywords_search\n",
    "from pprint import pprint"
   ]
  },
  {
   "cell_type": "markdown",
   "metadata": {},
   "source": [
    "## 1. 对UI-related和UI-unrelated review进行采样，并人工总结出false positive"
   ]
  },
  {
   "cell_type": "markdown",
   "metadata": {},
   "source": [
    "## 目录\n",
    "\n",
    "### 1.1 读取整体的数据集（在服务器上运行）\n",
    "\n",
    "### 1.2 读取UI-related数据集 （在服务器上运行）\n",
    "\n",
    "### 1.3 从整体的去除UI-related的数据，获得UI-unrelated的数据 （在服务器上运行）\n",
    "\n",
    "### 1.4 整理好两部分的数据集后，固定随机种子，并采样（在服务器上运行）\n",
    "\n",
    "### 1.5 读取采样的数据（可以在本地运行）"
   ]
  },
  {
   "source": [
    "### 1.1 读取整体的数据集(在服务器上运行)\n",
    "\n",
    "数据量非常大，需要在服务器上面跑"
   ],
   "cell_type": "markdown",
   "metadata": {}
  },
  {
   "source": [
    "#### Free review的数量"
   ],
   "cell_type": "markdown",
   "metadata": {}
  },
  {
   "cell_type": "code",
   "execution_count": 2,
   "metadata": {
    "tags": []
   },
   "outputs": [
    {
     "output_type": "stream",
     "name": "stdout",
     "text": "3min 4s ± 1.82 s per loop (mean ± std. dev. of 7 runs, 1 loop each)\n"
    }
   ],
   "source": [
    "# 测试加载时间\n",
    "# %%timeit\n",
    "# free = pd.read_csv(\"/home/qiuyuanchen/data/UI_data/not_used/Free_Apps_Reviews.csv.gz\", compression=\"gzip\")\n",
    "# 3min 4s ± 1.82 s per loop (mean ± std. dev. of 7 runs, 1 loop each)"
   ]
  },
  {
   "cell_type": "code",
   "execution_count": 3,
   "metadata": {},
   "outputs": [
    {
     "output_type": "execute_result",
     "data": {
      "text/plain": "75422963"
     },
     "metadata": {},
     "execution_count": 3
    }
   ],
   "source": [
    "free = pd.read_csv(\"/home/qiuyuanchen/data/UI_data/not_used/Free_Apps_Reviews.csv.gz\", compression=\"gzip\")\n",
    "len(free)"
   ]
  },
  {
   "source": [
    "#### Non-free review的数量"
   ],
   "cell_type": "markdown",
   "metadata": {}
  },
  {
   "cell_type": "code",
   "execution_count": 4,
   "metadata": {
    "tags": []
   },
   "outputs": [
    {
     "output_type": "stream",
     "name": "stdout",
     "text": "11.6 s ± 35.5 ms per loop (mean ± std. dev. of 7 runs, 1 loop each)\n"
    }
   ],
   "source": [
    "# %%timeit\n",
    "# non_free = pd.read_csv(\"/home/qiuyuanchen/data/UI_data/not_used/Non_Free_Apps_Reviews.csv.gz\", compression=\"gzip\")\n",
    "# 11.6 s ± 35.5 ms per loop (mean ± std. dev. of 7 runs, 1 loop each)"
   ]
  },
  {
   "cell_type": "code",
   "execution_count": 5,
   "metadata": {},
   "outputs": [
    {
     "output_type": "execute_result",
     "data": {
      "text/plain": "3333370"
     },
     "metadata": {},
     "execution_count": 5
    }
   ],
   "source": [
    "non_free = pd.read_csv(\"/home/qiuyuanchen/data/UI_data/not_used/Non_Free_Apps_Reviews.csv.gz\", compression=\"gzip\")\n",
    "len(non_free)"
   ]
  },
  {
   "source": [
    "#### 所有review的数量"
   ],
   "cell_type": "markdown",
   "metadata": {}
  },
  {
   "cell_type": "code",
   "execution_count": 6,
   "metadata": {},
   "outputs": [],
   "source": [
    "# all=pd.concat([free, non_free])\n",
    "# len(all)\n",
    "# assert len(all) == (len(free) + len(non_free))"
   ]
  },
  {
   "source": [
    "#### 直接读取所有的review，并check"
   ],
   "cell_type": "markdown",
   "metadata": {}
  },
  {
   "cell_type": "code",
   "execution_count": 8,
   "metadata": {},
   "outputs": [
    {
     "output_type": "execute_result",
     "data": {
      "text/plain": "78756333"
     },
     "metadata": {},
     "execution_count": 8
    }
   ],
   "source": [
    "check_all = pd.read_csv(\"/home/qiuyuanchen/data/UI_data/ALL_APP_REVIEW.csv.gz\", compression=\"gzip\")\n",
    "assert len(all) == len(check_all)\n",
    "len(check_all)"
   ]
  },
  {
   "source": [
    "### 1.2 读取所有UI的数据"
   ],
   "cell_type": "markdown",
   "metadata": {}
  },
  {
   "source": [
    "#### 所有UI的数量，以及free ui和non-free ui的数量"
   ],
   "cell_type": "markdown",
   "metadata": {}
  },
  {
   "cell_type": "code",
   "execution_count": 10,
   "metadata": {
    "tags": []
   },
   "outputs": [
    {
     "output_type": "stream",
     "name": "stdout",
     "text": "\u001b[31mUI review的数量\u001b[0m\n3355145\n\u001b[31mFree UI review的数量\u001b[0m\n3035518\n\u001b[31mNon free UI review的数量\u001b[0m\n319627\n"
    }
   ],
   "source": [
    "ui = pd.read_csv(\"/home/qiuyuanchen/data/UI_data/ALL_UI.csv\")\n",
    "red(\"UI review的数量\")\n",
    "print(len(ui))\n",
    "red(\"Free UI review的数量\")\n",
    "free_ui = ui[ui[\"IS_FREE\"] == 1]\n",
    "print(len(free_ui))\n",
    "red(\"Non free UI review的数量\")\n",
    "non_free_ui = ui[ui[\"IS_FREE\"] == 0]\n",
    "print(len(non_free_ui))"
   ]
  },
  {
   "source": [
    "### 1.3 从整体的去除UI-related的数据，获得UI-unrelated的数据 （需要在服务器上跑）"
   ],
   "cell_type": "markdown",
   "metadata": {}
  },
  {
   "cell_type": "code",
   "execution_count": 11,
   "metadata": {},
   "outputs": [],
   "source": [
    "non_ui = all[~all[\"REVIEW_ID\"].isin(ui[\"REVIEW_ID\"])]"
   ]
  },
  {
   "cell_type": "code",
   "execution_count": 12,
   "metadata": {
    "tags": []
   },
   "outputs": [
    {
     "output_type": "stream",
     "name": "stdout",
     "text": "\u001b[31m所有review的数量\u001b[0m\n78756333\n\u001b[31mUI review的数量\u001b[0m\n3355145\n\u001b[31mUI-unrelated review的数量\u001b[0m\n75401188\n"
    }
   ],
   "source": [
    "red(\"所有review的数量\")\n",
    "print(len(all))\n",
    "red(\"UI review的数量\")\n",
    "print(len(ui))\n",
    "red(\"UI-unrelated review的数量\")"
   ]
  },
  {
   "source": [
    "#### 直接读取处理好的UI-unrelated review 数据"
   ],
   "cell_type": "markdown",
   "metadata": {}
  },
  {
   "cell_type": "code",
   "execution_count": 27,
   "metadata": {
    "tags": []
   },
   "outputs": [
    {
     "output_type": "stream",
     "name": "stdout",
     "text": "75401188\n"
    }
   ],
   "source": [
    "check_non_ui = pd.read_csv(\"/home/qiuyuanchen/data/UI_data/ALL_NON_UI.csv.gz\", compression=\"gzip\")\n",
    "assert len(check_non_ui) == len(non_ui)\n",
    "print(len(check_non_ui))"
   ]
  },
  {
   "source": [
    "#### 1.4 整理好两部分的数据集后，固定随机种子，并采样"
   ],
   "cell_type": "markdown",
   "metadata": {}
  },
  {
   "cell_type": "code",
   "execution_count": 13,
   "metadata": {
    "tags": []
   },
   "outputs": [
    {
     "output_type": "stream",
     "name": "stdout",
     "text": "\u001b[31mUI review 采样的数量\u001b[0m\n1848\n\u001b[31mUI-unrelated review 采样的数量\u001b[0m\n4160\n"
    }
   ],
   "source": [
    "red(\"UI review 采样的数量\")\n",
    "ui_size = sample_size.calculate_size(2.58, 0.03, len(ui))\n",
    "print(ui_size)\n",
    "red(\"UI-unrelated review 采样的数量\")\n",
    "non_ui_size = sample_size.calculate_size(2.58, 0.02, len(non_ui))\n",
    "print(non_ui_size)"
   ]
  },
  {
   "cell_type": "code",
   "execution_count": 35,
   "metadata": {},
   "outputs": [],
   "source": [
    "RANDOM_SEED = 2333\n",
    "sample_ui = ui.sample(ui_size, random_state=RANDOM_SEED).reset_index()\n",
    "sample_non_ui = non_ui.sample(non_ui_size, random_state=RANDOM_SEED).reset_index()"
   ]
  },
  {
   "cell_type": "code",
   "execution_count": 82,
   "metadata": {
    "tags": []
   },
   "outputs": [
    {
     "output_type": "stream",
     "name": "stdout",
     "text": "(\"I've tried so many apps  this is the best for auto selection ( similar to \"\n 'magic wand function in Photoshop)  highly recommended')\n'Very good'\n"
    }
   ],
   "source": [
    "pprint(sample_ui[\"REVIEW_TEXT\"][0])\n",
    "pprint(sample_non_ui[\"REVIEW_TEXT\"][0])"
   ]
  },
  {
   "source": [
    "#### 1.5 读取采样的数据（可以在本地运行）\n",
    "输出成为html方便读"
   ],
   "cell_type": "markdown",
   "metadata": {}
  },
  {
   "cell_type": "code",
   "execution_count": 15,
   "metadata": {},
   "outputs": [],
   "source": [
    "keywords = keywords_search.get_keywords(\"keywords.txt\")"
   ]
  },
  {
   "cell_type": "code",
   "execution_count": 41,
   "metadata": {
    "tags": []
   },
   "outputs": [],
   "source": [
    "sample_ui = pd.read_csv(\"sample_ui.csv\")\n",
    "sample_non_ui = pd.read_csv(\"sample_non_ui.csv\")\n",
    "sample_ui['content'] = sample_ui[\"REVIEW_TITLE\"].fillna(\"No title\") + \"\\n\" + sample_ui[\"REVIEW_TEXT\"].fillna(\"No title\")\n",
    "sample_non_ui['content'] = sample_non_ui[\"REVIEW_TITLE\"].fillna(\"No title\") + \"\\n\" + sample_non_ui[\"REVIEW_TEXT\"].fillna(\"No title\")"
   ]
  },
  {
   "cell_type": "code",
   "execution_count": 42,
   "metadata": {
    "tags": []
   },
   "outputs": [
    {
     "output_type": "stream",
     "name": "stdout",
     "text": "('No title\\n'\n \"I've tried so many apps  this is the best for auto selection ( similar to \"\n 'magic wand function in Photoshop)  highly recommended')\n'No title\\nVery good'\n"
    }
   ],
   "source": [
    "pprint(sample_ui['content'][0])\n",
    "pprint(sample_non_ui['content'][0])"
   ]
  },
  {
   "cell_type": "code",
   "execution_count": 25,
   "metadata": {
    "tags": []
   },
   "outputs": [],
   "source": [
    "keywords_search.color_html(sample_ui['content'], keywords, \"sample_ui.html\")\n",
    "keywords_search.color_html(sample_non_ui['content'], keywords, \"sample_non_ui.html\")"
   ]
  },
  {
   "source": [
    "#### 分析采样的数据"
   ],
   "cell_type": "markdown",
   "metadata": {}
  },
  {
   "cell_type": "code",
   "execution_count": 80,
   "metadata": {
    "tags": []
   },
   "outputs": [
    {
     "output_type": "stream",
     "name": "stdout",
     "text": "\u001b[31m在UI review的采样中，是UI review的数量以及比例\u001b[0m\n1    1812\n0      36\nName: is_ui, dtype: int64\n1    0.980519\n0    0.019481\nName: is_ui, dtype: float64\n\u001b[31m在UI-unrelated review的采样中，不是UI review的数量以及比例\u001b[0m\n1    4133\n0      27\nName: is_not_ui, dtype: int64\n1    0.99351\n0    0.00649\nName: is_not_ui, dtype: float64\n"
    }
   ],
   "source": [
    "red(\"在UI review的采样中，是UI review的数量以及比例\")\n",
    "label_ui = pd.read_csv(\"label_ui_false_positive.txt\", header=None, squeeze=True, names=[\"is_ui\"])\n",
    "pprint(label_ui.value_counts())\n",
    "pprint(label_ui.value_counts(normalize=True))\n",
    "red(\"在UI-unrelated review的采样中，不是UI review的数量以及比例\")\n",
    "label_non_ui = pd.read_csv(\"label_non_ui_false_positive.txt\", header=None, squeeze=True, names=[\"is_not_ui\"])\n",
    "pprint(label_non_ui.value_counts())\n",
    "pprint(label_non_ui.value_counts(normalize=True))"
   ]
  },
  {
   "source": [
    "## 2. 分析实验中采样的数据"
   ],
   "cell_type": "markdown",
   "metadata": {}
  },
  {
   "source": [
    "### 2.1 UI review的采样数据及统计"
   ],
   "cell_type": "markdown",
   "metadata": {}
  },
  {
   "cell_type": "code",
   "execution_count": 83,
   "metadata": {
    "tags": []
   },
   "outputs": [
    {
     "output_type": "stream",
     "name": "stdout",
     "text": "统计各个UI types（包括多标签）\n{'layout': 62, 'color': 50, 'typography': 73, 'iconography': 73, 'image': 73, 'navigation': 75, 'notification': 117, 'motion': 35, 'gesture': 70, 'accessibility': 22, 'redundancy': 112, 'customization limitation': 108, 'advertisement': 53, 'feedback': 94, 'generic evaluation': 232, 'comparative review': 142, 'material': 95, 'False': 22}\nFalse positive的数量以及比例\n22\n0.014976174268209666\n"
    }
   ],
   "source": [
    "all = pd.read_csv(\"label_app_review.csv\", encoding=\"utf_8_sig\")\n",
    "# print(all[\"CATEGORY\"].value_counts())\n",
    "# print(all[\"SUBCATEGORY\"].value_counts())\n",
    "all[\"SUBCATEGORY\"] = all[\"SUBCATEGORY\"].fillna(\"False\")\n",
    "\n",
    "def count_category():\n",
    "    print(\"统计各个UI category （包括多标签）\")\n",
    "    category_dict = {\n",
    "        \"appearance\": 0,\n",
    "        \"interaction\": 0,\n",
    "        \"experience\": 0,\n",
    "        \"others\": 0,\n",
    "        \"False\": 0,\n",
    "    }\n",
    "    for review in all[\"CATEGORY\"]:\n",
    "        for c in str(review).split(\"/\"):\n",
    "            category_dict[c] += 1\n",
    "    return category_dict\n",
    "\n",
    "\n",
    "def count_subcategory():\n",
    "    print(\"统计各个UI types（包括多标签）\")\n",
    "    subcategory_dict = {\n",
    "        \"layout\": 0,\n",
    "        \"color\": 0,\n",
    "        \"typography\": 0,\n",
    "        \"iconography\": 0,\n",
    "        \"image\": 0,\n",
    "        \"navigation\": 0,\n",
    "        \"notification\": 0,\n",
    "        \"motion\": 0,\n",
    "        \"gesture\": 0,\n",
    "        \"accessibility\": 0,\n",
    "        \"redundancy\": 0,\n",
    "        \"customization limitation\": 0,\n",
    "        \"advertisement\": 0,\n",
    "        \"feedback\": 0,\n",
    "        \"generic evaluation\": 0,\n",
    "        \"comparative review\": 0,\n",
    "        \"material\": 0,\n",
    "        \"False\": 0,\n",
    "    }\n",
    "    total = 0\n",
    "    for review in all[\"SUBCATEGORY\"]:\n",
    "        for c in str(review).split(\"/\"):\n",
    "            subcategory_dict[c] += 1\n",
    "            total += 1\n",
    "    print(subcategory_dict)\n",
    "    print(\"False positive的数量以及比例\")\n",
    "    print(subcategory_dict[\"False\"])\n",
    "    # 总共有1447\n",
    "    print(subcategory_dict[\"False\"] / (subcategory_dict[\"False\"] + 1447))\n",
    "    # return subcategory_dict\n",
    "# count_category()\n",
    "count_subcategory()"
   ]
  },
  {
   "cell_type": "code",
   "execution_count": 81,
   "metadata": {
    "tags": []
   },
   "outputs": [],
   "source": [
    "from glob import glob\n",
    "files = sorted(glob(\"review_reply_*.xlsx\"))\n",
    "data_list = [pd.read_excel(f) for f in files]\n",
    "all_review_reply = pd.concat(data_list)\n",
    "all_review_reply.dropna(subset=[\"REPLY\", \"CATEGORY\"], inplace=True)"
   ]
  },
  {
   "cell_type": "code",
   "execution_count": 84,
   "metadata": {
    "tags": []
   },
   "outputs": [
    {
     "output_type": "stream",
     "name": "stdout",
     "text": "appearance                182\nexperience                165\nothers                    157\ninteraction               148\nFalse                      12\nappearance/interaction      8\nexperience/appearance       4\ninteraction/experience      3\ninteraction/appearance      3\nappearance/experience       2\nothers/appearance           1\nexperience/interaction      1\nName: CATEGORY, dtype: int64\n686\n统计各个UI category （包括多标签）\n统计各个pattern（包括多标签）\napology or appreciation                        220\ninformation request                            106\nadvice                                          84\ninform                                          59\npromise                                         57\njustify                                         55\nunspecify                                       34\napology or appreciation/information request     23\nFalse                                           12\njustify/advice                                   7\nadvice/information request                       6\napology or appreciation/advice                   4\napology or appreciation/promise                  4\npromise/advice                                   2\npromise/information request                      2\napology or appreciation/justify                  2\njustify/information request                      2\ninformation request/advice                       2\njustify/apology or appreciation                  2\njustify/promise                                  2\nadvice/promise                                   1\nName: REPLY, dtype: int64\n{'False': 12,\n 'advice': 106,\n 'apology or appreciation': 255,\n 'inform': 59,\n 'information request': 141,\n 'justify': 70,\n 'promise': 68,\n 'unspecify': 34}\nFalse positive的数量\n12\n12.015706806282722\n"
    }
   ],
   "source": [
    "print(all_review_reply[\"CATEGORY\"].value_counts())\n",
    "print(len(all_review_reply))\n",
    "def count_category(data):\n",
    "    print(\"统计各个UI category （包括多标签）\")\n",
    "    category_dict = {\n",
    "        \"appearance\": 0,\n",
    "        \"interaction\": 0,\n",
    "        \"experience\": 0,\n",
    "        \"others\": 0,\n",
    "        \"False\": 0,\n",
    "    }\n",
    "    for review in data[\"CATEGORY\"]:\n",
    "        for c in str(review).split(\"/\"):\n",
    "            category_dict[c] += 1\n",
    "    return category_dict\n",
    "\n",
    "def count_reply(data):\n",
    "    print(\"统计各个pattern（包括多标签）\")\n",
    "    print(all_review_reply[\"REPLY\"].value_counts())\n",
    "    reply_dict = {\n",
    "        \"apology or appreciation\": 0,\n",
    "        \"advice\": 0,\n",
    "        \"information request\": 0,\n",
    "        \"justify\": 0,\n",
    "        \"promise\": 0,\n",
    "        \"inform\": 0,\n",
    "        \"unspecify\": 0,\n",
    "        \"False\": 0\n",
    "    }\n",
    "    total = 0\n",
    "    for review in data[\"REPLY\"]:\n",
    "        for c in str(review).split(\"/\"):\n",
    "            reply_dict[c] += 1\n",
    "            total += 1\n",
    "    pprint(reply_dict)\n",
    "    print(\"False positive的数量\")\n",
    "    print(reply_dict[\"False\"])\n",
    "    # print(len(all_review_reply))\n",
    "    # 总共有764个数据\n",
    "    print(reply_dict[\"False\"] / (764 + reply_dict[\"False\"]))\n",
    "\n",
    "count_category(all_review_reply)\n",
    "count_reply(all_review_reply)"
   ]
  }
 ]
}