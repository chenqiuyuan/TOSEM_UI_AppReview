{
 "metadata": {
  "language_info": {
   "codemirror_mode": {
    "name": "ipython",
    "version": 3
   },
   "file_extension": ".py",
   "mimetype": "text/x-python",
   "name": "python",
   "nbconvert_exporter": "python",
   "pygments_lexer": "ipython3",
   "version": "3.7.3-final"
  },
  "orig_nbformat": 2,
  "kernelspec": {
   "name": "python3",
   "display_name": "Python 3"
  }
 },
 "nbformat": 4,
 "nbformat_minor": 2,
 "cells": [
  {
   "source": [
    "## 找到回复review的例子，压缩后的数据有4个G，大约一亿行。"
   ],
   "cell_type": "markdown",
   "metadata": {}
  },
  {
   "cell_type": "code",
   "execution_count": 1,
   "metadata": {},
   "outputs": [
    {
     "output_type": "execute_result",
     "data": {
      "text/plain": [
       "   REVIEW_REVISION_HISTORY_ID  REVIEW_ID  APP_ID            PACKAGE_NAME  \\\n",
       "0                   111320434   96003439   10669  AutomateIt.mainPackage   \n",
       "1                   111320435   96003440   10669  AutomateIt.mainPackage   \n",
       "2                   111320436   96003441   10669  AutomateIt.mainPackage   \n",
       "3                   111320437   96003442   10669  AutomateIt.mainPackage   \n",
       "4                   111320438   96003443   10669  AutomateIt.mainPackage   \n",
       "\n",
       "   RATING REVIEW_DATE                REVIEW_TITLE  \\\n",
       "0       1  2015-08-09  Battery drain is bad bad!!   \n",
       "1       5  2013-10-07                       Sweet   \n",
       "2       1  2015-06-01                      Broken   \n",
       "3       5  2013-06-15                   Excellent   \n",
       "4       5  2015-06-27                         NaN   \n",
       "\n",
       "                                         REVIEW_TEXT  REPLY_TEXT  REPLY_DATE  \\\n",
       "0  This app is draining my battery so bad I've ha...         NaN         NaN   \n",
       "1                                Works like a charm.         NaN         NaN   \n",
       "2  something changed now i cant set mobile data s...         NaN         NaN   \n",
       "3           Too bad ALL the features aren't free :-(         NaN         NaN   \n",
       "4                        Best app on this category!!         NaN         NaN   \n",
       "\n",
       "    REVIEWER_NAME REVISION_TIMESTAMP  \n",
       "0          Carl M         2018-10-14  \n",
       "1          Matt C         2018-10-14  \n",
       "2     Chris White         2018-10-14  \n",
       "3  Mike Wickenden         2018-10-14  \n",
       "4           Avi N         2018-10-14  "
      ],
      "text/html": "<div>\n<style scoped>\n    .dataframe tbody tr th:only-of-type {\n        vertical-align: middle;\n    }\n\n    .dataframe tbody tr th {\n        vertical-align: top;\n    }\n\n    .dataframe thead th {\n        text-align: right;\n    }\n</style>\n<table border=\"1\" class=\"dataframe\">\n  <thead>\n    <tr style=\"text-align: right;\">\n      <th></th>\n      <th>REVIEW_REVISION_HISTORY_ID</th>\n      <th>REVIEW_ID</th>\n      <th>APP_ID</th>\n      <th>PACKAGE_NAME</th>\n      <th>RATING</th>\n      <th>REVIEW_DATE</th>\n      <th>REVIEW_TITLE</th>\n      <th>REVIEW_TEXT</th>\n      <th>REPLY_TEXT</th>\n      <th>REPLY_DATE</th>\n      <th>REVIEWER_NAME</th>\n      <th>REVISION_TIMESTAMP</th>\n    </tr>\n  </thead>\n  <tbody>\n    <tr>\n      <th>0</th>\n      <td>111320434</td>\n      <td>96003439</td>\n      <td>10669</td>\n      <td>AutomateIt.mainPackage</td>\n      <td>1</td>\n      <td>2015-08-09</td>\n      <td>Battery drain is bad bad!!</td>\n      <td>This app is draining my battery so bad I've ha...</td>\n      <td>NaN</td>\n      <td>NaN</td>\n      <td>Carl M</td>\n      <td>2018-10-14</td>\n    </tr>\n    <tr>\n      <th>1</th>\n      <td>111320435</td>\n      <td>96003440</td>\n      <td>10669</td>\n      <td>AutomateIt.mainPackage</td>\n      <td>5</td>\n      <td>2013-10-07</td>\n      <td>Sweet</td>\n      <td>Works like a charm.</td>\n      <td>NaN</td>\n      <td>NaN</td>\n      <td>Matt C</td>\n      <td>2018-10-14</td>\n    </tr>\n    <tr>\n      <th>2</th>\n      <td>111320436</td>\n      <td>96003441</td>\n      <td>10669</td>\n      <td>AutomateIt.mainPackage</td>\n      <td>1</td>\n      <td>2015-06-01</td>\n      <td>Broken</td>\n      <td>something changed now i cant set mobile data s...</td>\n      <td>NaN</td>\n      <td>NaN</td>\n      <td>Chris White</td>\n      <td>2018-10-14</td>\n    </tr>\n    <tr>\n      <th>3</th>\n      <td>111320437</td>\n      <td>96003442</td>\n      <td>10669</td>\n      <td>AutomateIt.mainPackage</td>\n      <td>5</td>\n      <td>2013-06-15</td>\n      <td>Excellent</td>\n      <td>Too bad ALL the features aren't free :-(</td>\n      <td>NaN</td>\n      <td>NaN</td>\n      <td>Mike Wickenden</td>\n      <td>2018-10-14</td>\n    </tr>\n    <tr>\n      <th>4</th>\n      <td>111320438</td>\n      <td>96003443</td>\n      <td>10669</td>\n      <td>AutomateIt.mainPackage</td>\n      <td>5</td>\n      <td>2015-06-27</td>\n      <td>NaN</td>\n      <td>Best app on this category!!</td>\n      <td>NaN</td>\n      <td>NaN</td>\n      <td>Avi N</td>\n      <td>2018-10-14</td>\n    </tr>\n  </tbody>\n</table>\n</div>"
     },
     "metadata": {},
     "execution_count": 1
    }
   ],
   "source": [
    "# 看一下数据的模样\n",
    "import gzip\n",
    "import pandas as pd\n",
    "updates = pd.read_csv(\"/home/qiuyuanchen/data/UI_data/Reviews_Revisions.csv.gz\", compression=\"gzip\", iterator=True,chunksize=5)\n",
    "next(updates)"
   ]
  },
  {
   "cell_type": "code",
   "execution_count": 2,
   "metadata": {},
   "outputs": [],
   "source": [
    "# 数据非常大，用iterator部分读取\n",
    "update = pd.read_csv(\"/home/qiuyuanchen/data/UI_data/Reviews_Revisions.csv.gz\", \n",
    "                    compression=\"gzip\", \n",
    "                    usecols=[\"REVIEW_ID\", \"REVIEW_DATE\", \"REVIEW_TEXT\", \"REPLY_TEXT\", \"REPLY_TEXT\"],\n",
    "                    iterator=True,\n",
    "                    chunksize=50000, )\n"
   ]
  },
  {
   "cell_type": "code",
   "execution_count": 3,
   "metadata": {},
   "outputs": [
    {
     "output_type": "stream",
     "name": "stdout",
     "text": [
      "101090214\n"
     ]
    }
   ],
   "source": [
    "# 获得数据的总数\n",
    "num_lines = sum(1 for line in gzip.open('/home/qiuyuanchen/data/UI_data/Reviews_Revisions.csv.gz'))\n",
    "print(num_lines)"
   ]
  },
  {
   "cell_type": "code",
   "execution_count": 4,
   "metadata": {},
   "outputs": [
    {
     "output_type": "stream",
     "name": "stderr",
     "text": [
      "100%|█████████▉| 101090213/101090214 [04:05<00:00, 412240.38it/s]\n",
      "<class 'pandas.core.frame.DataFrame'>\n",
      "Int64Index: 6892163 entries, 48 to 101090212\n",
      "Data columns (total 4 columns):\n",
      "REVIEW_ID      int64\n",
      "REVIEW_DATE    object\n",
      "REVIEW_TEXT    object\n",
      "REPLY_TEXT     object\n",
      "dtypes: int64(1), object(3)\n",
      "memory usage: 262.9+ MB\n",
      "None\n"
     ]
    },
    {
     "output_type": "execute_result",
     "data": {
      "text/plain": [
       "     REVIEW_ID REVIEW_DATE                                        REVIEW_TEXT  \\\n",
       "48    96003487  2015-06-03  If this worked more than 50 per cent of the ti...   \n",
       "126   96003565  2015-06-07  Tried many ways to turn on wifi  none worked. ...   \n",
       "128   96003567  2014-03-10                             All problems fixed :-)   \n",
       "150   96003589  2013-07-11  Would like to be able to adjust GPS but that i...   \n",
       "177   96003616  2014-02-11                  Can't imagine my phone without it   \n",
       "\n",
       "                                            REPLY_TEXT  \n",
       "48   Just released a new update that should fix sev...  \n",
       "126  Just released a new update that should fix sev...  \n",
       "128  An update has been released with a fix for tha...  \n",
       "150  The Enable/Disable GPS Action is supported for...  \n",
       "177  Please refer to our FAQ page for a solution to...  "
      ],
      "text/html": "<div>\n<style scoped>\n    .dataframe tbody tr th:only-of-type {\n        vertical-align: middle;\n    }\n\n    .dataframe tbody tr th {\n        vertical-align: top;\n    }\n\n    .dataframe thead th {\n        text-align: right;\n    }\n</style>\n<table border=\"1\" class=\"dataframe\">\n  <thead>\n    <tr style=\"text-align: right;\">\n      <th></th>\n      <th>REVIEW_ID</th>\n      <th>REVIEW_DATE</th>\n      <th>REVIEW_TEXT</th>\n      <th>REPLY_TEXT</th>\n    </tr>\n  </thead>\n  <tbody>\n    <tr>\n      <th>48</th>\n      <td>96003487</td>\n      <td>2015-06-03</td>\n      <td>If this worked more than 50 per cent of the ti...</td>\n      <td>Just released a new update that should fix sev...</td>\n    </tr>\n    <tr>\n      <th>126</th>\n      <td>96003565</td>\n      <td>2015-06-07</td>\n      <td>Tried many ways to turn on wifi  none worked. ...</td>\n      <td>Just released a new update that should fix sev...</td>\n    </tr>\n    <tr>\n      <th>128</th>\n      <td>96003567</td>\n      <td>2014-03-10</td>\n      <td>All problems fixed :-)</td>\n      <td>An update has been released with a fix for tha...</td>\n    </tr>\n    <tr>\n      <th>150</th>\n      <td>96003589</td>\n      <td>2013-07-11</td>\n      <td>Would like to be able to adjust GPS but that i...</td>\n      <td>The Enable/Disable GPS Action is supported for...</td>\n    </tr>\n    <tr>\n      <th>177</th>\n      <td>96003616</td>\n      <td>2014-02-11</td>\n      <td>Can't imagine my phone without it</td>\n      <td>Please refer to our FAQ page for a solution to...</td>\n    </tr>\n  </tbody>\n</table>\n</div>"
     },
     "metadata": {},
     "execution_count": 4
    }
   ],
   "source": [
    "from pprint import pprint\n",
    "from IPython.display import display\n",
    "from tqdm import tqdm\n",
    "res = []\n",
    "with tqdm(total=num_lines-1) as progress_bar:\n",
    "    for chunck in update:\n",
    "        progress_bar.update(len(chunck))\n",
    "        chunck.dropna(subset=[\"REPLY_TEXT\"], inplace=True)\n",
    "        res.append(chunck)\n",
    "replies = pd.concat(res)\n",
    "print(replies.info())\n",
    "replies.head()"
   ]
  },
  {
   "cell_type": "code",
   "execution_count": 9,
   "metadata": {
    "tags": []
   },
   "outputs": [
    {
     "output_type": "stream",
     "name": "stdout",
     "text": [
      "6532385\n",
      "96003487\n",
      "    REVIEW_ID REVIEW_DATE                                        REVIEW_TEXT  \\\n",
      "48   96003487  2015-06-03  If this worked more than 50 per cent of the ti...   \n",
      "\n",
      "                                           REPLY_TEXT  \n",
      "48  Just released a new update that should fix sev...  \n",
      "1\n",
      "<class 'pandas.core.frame.DataFrame'>\n"
     ]
    }
   ],
   "source": [
    "groups = replies.groupby(\"REVIEW_ID\")\n",
    "print(len(groups))\n"
   ]
  },
  {
   "cell_type": "code",
   "execution_count": 84,
   "metadata": {},
   "outputs": [
    {
     "output_type": "stream",
     "name": "stdout",
     "text": [
      "17361\n"
     ]
    }
   ],
   "source": [
    "dialogues = replies.drop_duplicates(subset=[\"REPLY_TEXT\"], keep=False)\n",
    "dialogues = dialogues[dialogues.duplicated(subset=[\"REVIEW_ID\"], keep=False)]\n",
    "groups = dialogues.groupby(\"REVIEW_ID\")\n",
    "print(len(groups))"
   ]
  },
  {
   "cell_type": "code",
   "execution_count": 121,
   "metadata": {},
   "outputs": [
    {
     "output_type": "stream",
     "name": "stdout",
     "text": [
      "126867972\n          REVIEW_ID REVIEW_DATE  \\\n31852058  126867972  2018-12-12   \n32985529  126867972  2018-12-18   \n\n                                                                                             REVIEW_TEXT  \\\n31852058  Wifi connected but says LAN is not connected. ( )                                                \n32985529  Please enable shortcuts so we can navigate to a specific tool without multiple clicks. thanks!   \n\n                                                                                                                                                                                                                              REPLY_TEXT  \n31852058  Hi thanks for using this app and for your review. Just stay updated more tools utilities and improvements will be soon available. Please contact me at : info@eakteam.com to try to solve your issue. Thanks again              \n32985529  Hi thanks for using this app and for your review. Just stay updated more tools utilities and improvements will be soon available. UPDATE : About your request will look further to make more simple ways to navigate to tools.  \n"
     ]
    }
   ],
   "source": [
    "group_names = list(groups.groups.keys())\n",
    "review_id = group_names[10115]\n",
    "print(review_id)\n",
    "sample = groups.get_group(review_id)\n",
    "pd.set_option('display.max_colwidth', -1)\n",
    "print(sample)"
   ]
  },
  {
   "cell_type": "code",
   "execution_count": null,
   "metadata": {},
   "outputs": [],
   "source": []
  }
 ]
}