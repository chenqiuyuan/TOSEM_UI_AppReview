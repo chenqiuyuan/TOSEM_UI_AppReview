{
 "metadata": {
  "language_info": {
   "codemirror_mode": {
    "name": "ipython",
    "version": 3
   },
   "file_extension": ".py",
   "mimetype": "text/x-python",
   "name": "python",
   "nbconvert_exporter": "python",
   "pygments_lexer": "ipython3",
   "version": "3.7.6-final"
  },
  "orig_nbformat": 2,
  "kernelspec": {
   "name": "Python 3.7.6 64-bit ('base': conda)",
   "display_name": "Python 3.7.6 64-bit ('base': conda)",
   "metadata": {
    "interpreter": {
     "hash": "bff3a09253b919f5b323a21d22b8cf35e4f790fcdbcb251b221cb7b2e4a43851"
    }
   }
  }
 },
 "nbformat": 4,
 "nbformat_minor": 2,
 "cells": [
  {
   "cell_type": "code",
   "execution_count": 8,
   "metadata": {},
   "outputs": [],
   "source": [
    "import pandas as pd"
   ]
  },
  {
   "cell_type": "code",
   "execution_count": 9,
   "metadata": {},
   "outputs": [
    {
     "output_type": "execute_result",
     "data": {
      "text/plain": "                     Timestamp  \\\n0  2020/09/11 5:05:55 PM GMT+8   \n1  2020/09/13 4:02:00 PM GMT+8   \n2  2020/09/13 4:56:46 PM GMT+8   \n3  2020/09/13 6:14:03 PM GMT+8   \n4  2020/09/13 8:25:00 PM GMT+8   \n\n  1. Are you a professional developer of mobile apps?  \\\n0                                                 No    \n1                                                Yes    \n2                                                Yes    \n3                                                 No    \n4                                                 No    \n\n  2. Are you involved in the design, development, or maintenance of the app UI?  \\\n0                                                 No                              \n1                                                Yes                              \n2                                                 No                              \n3                                                Yes                              \n4                                                Yes                              \n\n  3. Please describe your role in developing the UI of the apps.  \\\n0                                               Test               \n1                                        Development               \n2                                        Development               \n3                                         everything               \n4                                        Development               \n\n   4. How many years of experience do you have in your job role? (decimals ok)  \\\n0                                                1.0                             \n1                                               20.0                             \n2                                                3.0                             \n3                                                0.0                             \n4                                                3.0                             \n\n  5. What is your current country of residence?  \\\n0                                         China   \n1                                       Germany   \n2                                       Belarus   \n3                                        russia   \n4                                        France   \n\n  6. How often do you refer to user reviews when repairing or updating the app UI?  \\\n0                                                NaN                                 \n1                                                NaN                                 \n2                                                NaN                                 \n3                                                NaN                                 \n4                                                NaN                                 \n\n  7. How difficult is it for you to understand the app UI issues from user reviews and make improvements?  \\\n0                                         3 (Neural)                                                        \n1                                         3 (Neural)                                                        \n2                       Never reviewed user reviews.                                                        \n3                                      1 (Very easy)                                                        \n4                                         3 (Neural)                                                        \n\n  8. How do you identify and understand UI issues in the user reviews?  (Optional)  \\\n0                                                NaN                                 \n1                                                NaN                                 \n2                                                NaN                                 \n3                                                NaN                                 \n4                                                NaN                                 \n\n  9. (Appearance) How difficult is it for you to identify the following UI issues in the user reviews? [Layout]  \\\n0                                                  3                                                              \n1                                                  4                                                              \n2                                                  3                                                              \n3                                                  5                                                              \n4                                           Not sure                                                              \n\n   ...  \\\n0  ...   \n1  ...   \n2  ...   \n3  ...   \n4  ...   \n\n  17. Do you agree with the following statements? [I have trouble when guiding users to get used to the interaction of app UI. (e.g., gestures)]  \\\n0                                                NaN                                                                                               \n1                                                NaN                                                                                               \n2                                                NaN                                                                                               \n3                                                NaN                                                                                               \n4                                                NaN                                                                                               \n\n  17. Do you agree with the following statements? [Adding more dimensional ratings to the app market can help me better improve the app UI. (e.g., ratings for appearance or interaction)]  \\\n0                                                NaN                                                                                                                                         \n1                                                NaN                                                                                                                                         \n2                                                NaN                                                                                                                                         \n3                                                NaN                                                                                                                                         \n4                                                NaN                                                                                                                                         \n\n  18. According to your practical experience, how do you deal with UI issues in the user reviews? (Optional)  \\\n0                                                NaN                                                           \n1  I try to identify the cause for negative revie...                                                           \n2                                                NaN                                                           \n3                                                NaN                                                           \n4                                                NaN                                                           \n\n  19. Do you have any final comments or questions for us? (Optional)  \\\n0                                                NaN                   \n1  I would like to see the results of your study ...                   \n2  In the e-mail that invites to participate in t...                   \n3                                                NaN                   \n4                                                NaN                   \n\n  20. As an appreciation of your time and valuable inputs, we will give out 50 USD Amazon vouchers to two randomly selected participants. If you want to enter the raffle, please kindly enter your email. (Optional)  \\\n0                                                NaN                                                                                                                                                                    \n1                               github@arnowelzel.de                                                                                                                                                                    \n2                                                NaN                                                                                                                                                                    \n3                                                NaN                                                                                                                                                                    \n4                                                NaN                                                                                                                                                                    \n\n    Unnamed: 36 Unnamed: 37    Unnamed: 38 Unnamed: 39 Unnamed: 40  \n0           Yes         Yes     5 (Always)         Yes         NaN  \n1            No         Yes  3 (Sometimes)         Yes         NaN  \n2  Never tried.         Yes      1 (Never)       Maybe         NaN  \n3            No          No     2 (Seldom)       Maybe         NaN  \n4           Yes          No      1 (Never)       Maybe         NaN  \n\n[5 rows x 41 columns]",
      "text/html": "<div>\n<style scoped>\n    .dataframe tbody tr th:only-of-type {\n        vertical-align: middle;\n    }\n\n    .dataframe tbody tr th {\n        vertical-align: top;\n    }\n\n    .dataframe thead th {\n        text-align: right;\n    }\n</style>\n<table border=\"1\" class=\"dataframe\">\n  <thead>\n    <tr style=\"text-align: right;\">\n      <th></th>\n      <th>Timestamp</th>\n      <th>1. Are you a professional developer of mobile apps?</th>\n      <th>2. Are you involved in the design, development, or maintenance of the app UI?</th>\n      <th>3. Please describe your role in developing the UI of the apps.</th>\n      <th>4. How many years of experience do you have in your job role? (decimals ok)</th>\n      <th>5. What is your current country of residence?</th>\n      <th>6. How often do you refer to user reviews when repairing or updating the app UI?</th>\n      <th>7. How difficult is it for you to understand the app UI issues from user reviews and make improvements?</th>\n      <th>8. How do you identify and understand UI issues in the user reviews?  (Optional)</th>\n      <th>9. (Appearance) How difficult is it for you to identify the following UI issues in the user reviews? [Layout]</th>\n      <th>...</th>\n      <th>17. Do you agree with the following statements? [I have trouble when guiding users to get used to the interaction of app UI. (e.g., gestures)]</th>\n      <th>17. Do you agree with the following statements? [Adding more dimensional ratings to the app market can help me better improve the app UI. (e.g., ratings for appearance or interaction)]</th>\n      <th>18. According to your practical experience, how do you deal with UI issues in the user reviews? (Optional)</th>\n      <th>19. Do you have any final comments or questions for us? (Optional)</th>\n      <th>20. As an appreciation of your time and valuable inputs, we will give out 50 USD Amazon vouchers to two randomly selected participants. If you want to enter the raffle, please kindly enter your email. (Optional)</th>\n      <th>Unnamed: 36</th>\n      <th>Unnamed: 37</th>\n      <th>Unnamed: 38</th>\n      <th>Unnamed: 39</th>\n      <th>Unnamed: 40</th>\n    </tr>\n  </thead>\n  <tbody>\n    <tr>\n      <th>0</th>\n      <td>2020/09/11 5:05:55 PM GMT+8</td>\n      <td>No</td>\n      <td>No</td>\n      <td>Test</td>\n      <td>1.0</td>\n      <td>China</td>\n      <td>NaN</td>\n      <td>3 (Neural)</td>\n      <td>NaN</td>\n      <td>3</td>\n      <td>...</td>\n      <td>NaN</td>\n      <td>NaN</td>\n      <td>NaN</td>\n      <td>NaN</td>\n      <td>NaN</td>\n      <td>Yes</td>\n      <td>Yes</td>\n      <td>5 (Always)</td>\n      <td>Yes</td>\n      <td>NaN</td>\n    </tr>\n    <tr>\n      <th>1</th>\n      <td>2020/09/13 4:02:00 PM GMT+8</td>\n      <td>Yes</td>\n      <td>Yes</td>\n      <td>Development</td>\n      <td>20.0</td>\n      <td>Germany</td>\n      <td>NaN</td>\n      <td>3 (Neural)</td>\n      <td>NaN</td>\n      <td>4</td>\n      <td>...</td>\n      <td>NaN</td>\n      <td>NaN</td>\n      <td>I try to identify the cause for negative revie...</td>\n      <td>I would like to see the results of your study ...</td>\n      <td>github@arnowelzel.de</td>\n      <td>No</td>\n      <td>Yes</td>\n      <td>3 (Sometimes)</td>\n      <td>Yes</td>\n      <td>NaN</td>\n    </tr>\n    <tr>\n      <th>2</th>\n      <td>2020/09/13 4:56:46 PM GMT+8</td>\n      <td>Yes</td>\n      <td>No</td>\n      <td>Development</td>\n      <td>3.0</td>\n      <td>Belarus</td>\n      <td>NaN</td>\n      <td>Never reviewed user reviews.</td>\n      <td>NaN</td>\n      <td>3</td>\n      <td>...</td>\n      <td>NaN</td>\n      <td>NaN</td>\n      <td>NaN</td>\n      <td>In the e-mail that invites to participate in t...</td>\n      <td>NaN</td>\n      <td>Never tried.</td>\n      <td>Yes</td>\n      <td>1 (Never)</td>\n      <td>Maybe</td>\n      <td>NaN</td>\n    </tr>\n    <tr>\n      <th>3</th>\n      <td>2020/09/13 6:14:03 PM GMT+8</td>\n      <td>No</td>\n      <td>Yes</td>\n      <td>everything</td>\n      <td>0.0</td>\n      <td>russia</td>\n      <td>NaN</td>\n      <td>1 (Very easy)</td>\n      <td>NaN</td>\n      <td>5</td>\n      <td>...</td>\n      <td>NaN</td>\n      <td>NaN</td>\n      <td>NaN</td>\n      <td>NaN</td>\n      <td>NaN</td>\n      <td>No</td>\n      <td>No</td>\n      <td>2 (Seldom)</td>\n      <td>Maybe</td>\n      <td>NaN</td>\n    </tr>\n    <tr>\n      <th>4</th>\n      <td>2020/09/13 8:25:00 PM GMT+8</td>\n      <td>No</td>\n      <td>Yes</td>\n      <td>Development</td>\n      <td>3.0</td>\n      <td>France</td>\n      <td>NaN</td>\n      <td>3 (Neural)</td>\n      <td>NaN</td>\n      <td>Not sure</td>\n      <td>...</td>\n      <td>NaN</td>\n      <td>NaN</td>\n      <td>NaN</td>\n      <td>NaN</td>\n      <td>NaN</td>\n      <td>Yes</td>\n      <td>No</td>\n      <td>1 (Never)</td>\n      <td>Maybe</td>\n      <td>NaN</td>\n    </tr>\n  </tbody>\n</table>\n<p>5 rows × 41 columns</p>\n</div>"
     },
     "metadata": {},
     "execution_count": 9
    }
   ],
   "source": [
    "data = pd.read_csv(\"survey_results_20201003.csv\")\n",
    "data.head()"
   ]
  },
  {
   "cell_type": "code",
   "execution_count": 10,
   "metadata": {
    "tags": []
   },
   "outputs": [
    {
     "output_type": "stream",
     "name": "stdout",
     "text": "截至2020.10.3，总共发出了771封邮件， 收到了43封回信\n回复比例： 0.055772\n"
    }
   ],
   "source": [
    "print(\"截至2020.10.3，总共发出了771封邮件， 收到了43封回信。760\")\n",
    "print(\"回复比例： %f\" % (43/771))"
   ]
  },
  {
   "cell_type": "code",
   "execution_count": 11,
   "metadata": {
    "tags": []
   },
   "outputs": [
    {
     "output_type": "stream",
     "name": "stdout",
     "text": "来自20个不同的国家, usa重复了一个，所以有19个\nchina                       8\nitaly                       7\ngermany                     5\nusa                         4\nindia                       2\nnetherlands                 2\nfrance                      2\nnorway                      1\naustria                     1\ncanada                      1\nsingapore                   1\nrussia                      1\nmalaysia                    1\neu                          1\nbelarus                     1\naustralia                   1\njapan                       1\nczech republic              1\nbrazil                      1\nunited states of america    1\nName: 5. What is your current country of residence?, dtype: int64\nTop 3的国家\nchina      0.186047\nitaly      0.162791\ngermany    0.116279\nName: 5. What is your current country of residence?, dtype: float64\n"
    }
   ],
   "source": [
    "countries = data[\"5. What is your current country of residence?\"]\n",
    "countries = countries.str.lower()\n",
    "countries_count = countries.value_counts()\n",
    "print(\"来自%s个不同的国家, usa重复了一个，所以有19个\" % len(countries_count))\n",
    "print(countries_count)\n",
    "print(\"Top 3的国家\")\n",
    "print(countries.value_counts(normalize=True)[:3])"
   ]
  },
  {
   "cell_type": "code",
   "execution_count": 12,
   "metadata": {
    "tags": []
   },
   "outputs": [
    {
     "output_type": "stream",
     "name": "stdout",
     "text": "专业开发者的数量(27)和比例(0.63)\n工作涉及到了UI开发的数量和比例\nYes    39\nNo      4\nName: 2. Are you involved in the design, development, or maintenance of the app UI?, dtype: int64\n"
    },
    {
     "output_type": "execute_result",
     "data": {
      "text/plain": "Yes    0.906977\nNo     0.093023\nName: 2. Are you involved in the design, development, or maintenance of the app UI?, dtype: float64"
     },
     "metadata": {},
     "execution_count": 12
    }
   ],
   "source": [
    "professional = data[\"1. Are you a professional developer of mobile apps?\"]\n",
    "involve_ui = data[\"2. Are you involved in the design, development, or maintenance of the app UI?\"]\n",
    "prof = len(professional) - len(professional[professional == \"No\"])\n",
    "print(\"专业开发者的数量(%s)和比例(%.2f)\" % (prof, (prof/len(professional))))\n",
    "print(\"工作涉及到了UI开发的数量和比例\")\n",
    "print(involve_ui.value_counts())\n",
    "involve_ui.value_counts(normalize=True)"
   ]
  },
  {
   "cell_type": "code",
   "execution_count": 13,
   "metadata": {
    "tags": []
   },
   "outputs": [
    {
     "output_type": "stream",
     "name": "stdout",
     "text": "Full-stack (multiple roles)      26\nDevelopment                      12\nTest                              2\nManagement                        1\neverything                        1\nDesign and develop own app UI     1\nName: 3. Please describe your role in developing the UI of the apps., dtype: int64\n在UI开发中，不同角色的统计\ndesign          1\ndevelopment    12\ntest            2\nmanagement      1\nfull_stack     27\nName: 3. Please describe your role in developing the UI of the apps., dtype: int64\ndesign         0.023256\ndevelopment    0.279070\ntest           0.046512\nmanagement     0.023256\nfull_stack     0.627907\nName: 3. Please describe your role in developing the UI of the apps., dtype: float64\n"
    }
   ],
   "source": [
    "roles = data[\"3. Please describe your role in developing the UI of the apps.\"]\n",
    "print(roles.value_counts())\n",
    "transform = {\n",
    "    \"Design and develop own app UI\": \"design\",\n",
    "    \"Test\": \"test\",\n",
    "    \"Development\": \"development\",\n",
    "    \"Management\": \"management\",\n",
    "    \"Full-stack (multiple roles)\": \"full_stack\",\n",
    "    \"everything\": \"full_stack\"\n",
    "}\n",
    "roles = roles.map(transform)\n",
    "counts = roles.value_counts()\n",
    "counts = counts.reindex(index=[\"design\", \"development\", \"test\", \"management\", \"full_stack\"])\n",
    "counts_ratio = roles.value_counts(normalize=True)\n",
    "counts_ratio = counts_ratio.reindex(index=[\"design\", \"development\", \"test\", \"management\", \"full_stack\"])\n",
    "print(\"在UI开发中，不同角色的统计\")\n",
    "print(counts)\n",
    "print(counts_ratio)"
   ]
  },
  {
   "cell_type": "code",
   "execution_count": 14,
   "metadata": {
    "tags": []
   },
   "outputs": [
    {
     "output_type": "stream",
     "name": "stdout",
     "text": "4 (Often)        20\n3 (Sometimes)    12\n2 (Seldom)        7\n5 (Always)        4\nName: 6. How often do you refer to user reviews when repairing or updating the app UI?, dtype: int64\n"
    },
    {
     "output_type": "execute_result",
     "data": {
      "text/plain": "4 (Often)        0.465116\n3 (Sometimes)    0.279070\n2 (Seldom)       0.162791\n5 (Always)       0.093023\nName: 6. How often do you refer to user reviews when repairing or updating the app UI?, dtype: float64"
     },
     "metadata": {},
     "execution_count": 14
    }
   ],
   "source": [
    "frequency = data[\"6. How often do you refer to user reviews when repairing or updating the app UI?\"].fillna(\"4 (Often)\")\n",
    "print(frequency.value_counts())\n",
    "frequency.value_counts(normalize=True)"
   ]
  },
  {
   "cell_type": "code",
   "execution_count": 15,
   "metadata": {
    "tags": []
   },
   "outputs": [
    {
     "output_type": "stream",
     "name": "stdout",
     "text": "3 (Neutral)           19\n2 (Easy)              10\n4 (Difficult)          9\n5 (Very difficult)     3\n1 (Very easy)          2\nName: 7. How difficult is it for you to understand the app UI issues from user reviews and make improvements?, dtype: int64\n3 (Neutral)           0.441860\n2 (Easy)              0.232558\n4 (Difficult)         0.209302\n5 (Very difficult)    0.069767\n1 (Very easy)         0.046512\nName: 7. How difficult is it for you to understand the app UI issues from user reviews and make improvements?, dtype: float64\n"
    }
   ],
   "source": [
    "difficult = data[\"7. How difficult is it for you to understand the app UI issues from user reviews and make improvements?\"]\n",
    "transforms = {\n",
    "    \"Never reviewed user reviews.\": \"3 (Neutral)\",\n",
    "    \"3 (Neural)\": \"3 (Neutral)\"\n",
    "}\n",
    "difficult = difficult.replace(transforms)\n",
    "print(difficult.value_counts())\n",
    "print(difficult.value_counts(normalize=True))"
   ]
  },
  {
   "cell_type": "code",
   "execution_count": 16,
   "metadata": {
    "tags": []
   },
   "outputs": [
    {
     "output_type": "stream",
     "name": "stdout",
     "text": "                      2 (Easy)  3 (Neutral)  4 (Difficult)  \\\nLayout                      19            8              7   \nLegibility and Color        16            6              7   \nTypography and Font         18           10              8   \nIcon                        13           13              7   \nImage                       17            6             10   \nNavigation                  16            4             12   \nNotification                13           13              4   \nMotion                       4           12             15   \nGesture                      8            8             14   \nAccessibility                9            5             11   \nRedundancy                  19            6              5   \nCustomization               17            8              8   \nAdvertisement               12            7              3   \nFeedback                    19           13              2   \nGeneric Review               9            7             11   \nComparative Review           7           13             10   \nDesign Specification        14           10              8   \n\n                      5 (Very difficult)  1 (Very easy)  Not sure  \nLayout                                 4              3         2  \nLegibility and Color                   4              8         2  \nTypography and Font                    2              3         2  \nIcon                                   3              3         4  \nImage                                  2              3         5  \nNavigation                             3              6         2  \nNotification                           5              7         1  \nMotion                                 6              3         3  \nGesture                                8              3         2  \nAccessibility                         11              4         3  \nRedundancy                             3              6         4  \nCustomization                          3              4         3  \nAdvertisement                          1             12         8  \nFeedback                               3              4         2  \nGeneric Review                        10              4         2  \nComparative Review                     4              7         2  \nDesign Specification                   1              4         6  \nIndex(['1 (Very easy)', '2 (Easy)', '3 (Neutral)', '4 (Difficult)',\n       '5 (Very difficult)', 'Not sure', 'Average'],\n      dtype='object')\n"
    }
   ],
   "source": [
    "layout = data[\"9. (Appearance) How difficult is it for you to identify the following UI issues in the user reviews? [Layout]\"]\n",
    "color = data[\"9. (Appearance) How difficult is it for you to identify the following UI issues in the user reviews? [Legibility and Color]\"]\n",
    "font = data[\"9. (Appearance) How difficult is it for you to identify the following UI issues in the user reviews? [Typography and Font]\"]\n",
    "icon = data[\"9. (Appearance) How difficult is it for you to identify the following UI issues in the user reviews? [Icon]\"]\n",
    "image = data[\"9. (Appearance) How difficult is it for you to identify the following UI issues in the user reviews? [Image]\"]\n",
    "navigation = data[\"10. (Interaction) How difficult is it for you to identify the following UI issues in the user reivews? [Navigation]\"]\n",
    "notification = data[\"10. (Interaction) How difficult is it for you to identify the following UI issues in the user reivews? [Notification]\"]\n",
    "motion = data[\"10. (Interaction) How difficult is it for you to identify the following UI issues in the user reivews? [Motion]\"]\n",
    "gesture = data[\"10. (Interaction) How difficult is it for you to identify the following UI issues in the user reivews? [Gesture]\"]\n",
    "accessibility = data[\"10. (Interaction) How difficult is it for you to identify the following UI issues in the user reivews? [Accessibility]\"]\n",
    "redundancy = data[\"11. (Experience) How difficult is it for you to identify the following UI issues in the user reviews? [Redundancy]\"]\n",
    "customization = data[\"11. (Experience) How difficult is it for you to identify the following UI issues in the user reviews? [Customization]\"]\n",
    "advertisement = data[\"11. (Experience) How difficult is it for you to identify the following UI issues in the user reviews? [Advertisement]\"]\n",
    "feedback = data[\"11. (Experience) How difficult is it for you to identify the following UI issues in the user reviews? [Feedback]\"]\n",
    "generic = data[\"12. (Other issues) How difficult is it for you to identify the following UI issues in the user reviews? [Generic Review]\"]\n",
    "comparative = data[\"12. (Other issues) How difficult is it for you to identify the following UI issues in the user reviews? [Comparative Review]\"]\n",
    "design = data[\"12. (Other issues) How difficult is it for you to identify the following UI issues in the user reviews? [Design Specification]\"]\n",
    "\n",
    "layout.name = \"Layout\"\n",
    "color.name = \"Legibility and Color\"\n",
    "font.name = \"Typography and Font\"\n",
    "icon.name = \"Icon\"\n",
    "image.name = \"Image\"\n",
    "navigation.name = \"Navigation\"\n",
    "notification.name = \"Notification\"\n",
    "motion.name = \"Motion\"\n",
    "gesture.name = \"Gesture\"\n",
    "accessibility.name = \"Accessibility\"\n",
    "redundancy.name = \"Redundancy\"\n",
    "customization.name = \"Customization\"\n",
    "advertisement.name = \"Advertisement\"\n",
    "feedback.name = \"Feedback\"\n",
    "generic.name = \"Generic Review\"\n",
    "comparative.name = \"Comparative Review\"\n",
    "design.name = \"Design Specification\"\n",
    "\n",
    "types = [layout, color, font, icon, image, navigation, notification, motion, gesture, accessibility, redundancy, customization, advertisement, feedback, generic, comparative, design]\n",
    "\n",
    "transform = {\n",
    "    \"1\": \"1 (Very easy)\",\n",
    "    \"2\": \"2 (Easy)\",\n",
    "    \"3\": \"3 (Neutral)\",\n",
    "    \"4\": \"4 (Difficult)\",\n",
    "    \"5\": \"5 (Very difficult)\",\n",
    "    \"3 (Neural)\": \"3 (Neutral)\"\n",
    "}\n",
    "types = [type.replace(transform) for type in types]\n",
    "types_count = [type.value_counts() for type in types]\n",
    "table = pd.DataFrame(types_count)\n",
    "print(table)\n",
    "table = table[[\"1 (Very easy)\", \"2 (Easy)\", \"3 (Neutral)\", \"4 (Difficult)\", \"5 (Very difficult)\", \"Not sure\"]]\n",
    "\n",
    "# print(layout.value_counts())\n",
    "# color.value_counts()\n",
    "# 平均困难程度\n",
    "table[\"Average\"] = (table.iloc[:, 0:5] * [1, 2, 3, 4, 5]).sum(axis=1) / 43\n",
    "print(table.columns)\n",
    "table.to_excel(\"test.xlsx\")"
   ]
  },
  {
   "cell_type": "code",
   "execution_count": 17,
   "metadata": {
    "tags": []
   },
   "outputs": [
    {
     "output_type": "stream",
     "name": "stdout",
     "text": "\\begin{table}\n\\footnotesize\n\\centering\n\\caption{Results of the survey.}\n\\label{tab:survey}\n\\begin{tabular*}{\\textwidth}{lrrrrrrr}\n\\toprule\n{} &  1 (Very easy) &  2 (Easy) &  3 (Neutral) &  4 (Difficult) &  5 (Very difficult) &  Not sure &  Average \\\\\n\\midrule\nLayout               &              3 &        19 &            8 &              7 &                   4 &         2 &     2.63 \\\\\nLegibility and Color &              8 &        16 &            6 &              7 &                   4 &         2 &     2.47 \\\\\nTypography and Font  &              3 &        18 &           10 &              8 &                   2 &         2 &     2.58 \\\\\nIcon                 &              3 &        13 &           13 &              7 &                   3 &         4 &     2.58 \\\\\nImage                &              3 &        17 &            6 &             10 &                   2 &         5 &     2.44 \\\\\nNavigation           &              6 &        16 &            4 &             12 &                   3 &         2 &     2.63 \\\\\nNotification         &              7 &        13 &           13 &              4 &                   5 &         1 &     2.63 \\\\\nMotion               &              3 &         4 &           12 &             15 &                   6 &         3 &     3.19 \\\\\nGesture              &              3 &         8 &            8 &             14 &                   8 &         2 &     3.23 \\\\\nAccessibility        &              4 &         9 &            5 &             11 &                  11 &         3 &     3.16 \\\\\nRedundancy           &              6 &        19 &            6 &              5 &                   3 &         4 &     2.26 \\\\\nCustomization        &              4 &        17 &            8 &              8 &                   3 &         3 &     2.53 \\\\\nAdvertisement        &             12 &        12 &            7 &              3 &                   1 &         8 &     1.72 \\\\\nFeedback             &              4 &        19 &           13 &              2 &                   3 &         2 &     2.42 \\\\\nGeneric Review       &              4 &         9 &            7 &             11 &                  10 &         2 &     3.19 \\\\\nComparative Review   &              7 &         7 &           13 &             10 &                   4 &         2 &     2.79 \\\\\nDesign Specification &              4 &        14 &           10 &              8 &                   1 &         6 &     2.30 \\\\\n\\bottomrule\n\\end{tabular*}\n\\end{table}\n"
    }
   ],
   "source": [
    "def format_latex(dataframe, name):\n",
    "    dataframe.to_latex(name, float_format=\"%.2f\", caption=\"Results of the survey.\", label=\"tab:survey\")\n",
    "    with open(name) as f:\n",
    "        content = f.readlines()\n",
    "    content.insert(1, \"\\\\footnotesize\\n\")\n",
    "    modified = []\n",
    "    for line in content: \n",
    "        line = line.replace(\"\\\\begin{tabular}\", \"\\\\begin{tabular*}{\\\\textwidth}\")\n",
    "        line = line.replace(\"\\\\end{tabular}\", \"\\\\end{tabular*}\")\n",
    "        modified.append(line)\n",
    "        print(line.strip())\n",
    "    with open(name, \"w\") as f:\n",
    "        f.write(\"\".join(modified))\n",
    "format_latex(table, \"text.tex\")"
   ]
  },
  {
   "cell_type": "code",
   "execution_count": 18,
   "metadata": {
    "tags": []
   },
   "outputs": [
    {
     "output_type": "stream",
     "name": "stdout",
     "text": "Appearance;Experience                       10\nExperience                                   8\nAppearance                                   4\nInteraction                                  4\nAppearance;Interaction                       4\nOthers                                       3\nInteraction;Experience                       3\nAppearance;Interaction;Experience            2\nInteraction;Others                           2\nAppearance;Others                            1\nAppearance;Interaction;Experience;Others     1\nExperience;Others                            1\nName: 13. In the four categories, which kinds of UI issues do you think are difficult to fix in order to satisfy users? (select all that apply), dtype: int64\nAppearance     22\nExperience     25\nInteraction    16\nOthers          8\ndtype: int64\nAppearance     0.511628\nExperience     0.581395\nInteraction    0.372093\nOthers         0.186047\ndtype: float64\n"
    }
   ],
   "source": [
    "fix_difficulty = data[\"13. In the four categories, which kinds of UI issues do you think are difficult to fix in order to satisfy users? (select all that apply)\"]\n",
    "print(fix_difficulty.value_counts())\n",
    "categories = {\n",
    "    \"Appearance\": 0,\n",
    "    \"Experience\": 0,\n",
    "    \"Interaction\": 0,\n",
    "    \"Others\": 0\n",
    "}\n",
    "for category in fix_difficulty:\n",
    "    if \"Appearance\" in category:\n",
    "        categories[\"Appearance\"] += 1\n",
    "    if \"Experience\" in category:\n",
    "        categories[\"Experience\"] += 1\n",
    "    if \"Interaction\" in category:\n",
    "        categories[\"Interaction\"] += 1\n",
    "    if \"Others\" in category:\n",
    "        categories[\"Others\"] += 1\n",
    "category_count = pd.Series(categories)\n",
    "print(category_count)\n",
    "print(category_count / 43)"
   ]
  },
  {
   "cell_type": "code",
   "execution_count": 19,
   "metadata": {
    "tags": []
   },
   "outputs": [
    {
     "output_type": "stream",
     "name": "stdout",
     "text": "4 (Useful)          18\n2 (Maybe useful)    14\n5 (Very Useful)      7\n3 (Neutral)          4\nName: 14. To what extent do you think categorizing the questions in user reviews can help you better identify the true intentions of users and improve the app UI?, dtype: int64\n4 (Useful)          0.418605\n2 (Maybe useful)    0.325581\n5 (Very Useful)     0.162791\n3 (Neutral)         0.093023\nName: 14. To what extent do you think categorizing the questions in user reviews can help you better identify the true intentions of users and improve the app UI?, dtype: float64\n3 (Some of the categories)        15\n4 (Many of the cateogies)         15\n5 (Most of the categories)         7\n2 (A little of the categories)     5\n1 (None of the categories)         1\nName: 15. To what extent can the categories of UI issues serve as a guideline to help you better communicate with team members?, dtype: int64\n3 (Some of the categories)        0.348837\n4 (Many of the cateogies)         0.348837\n5 (Most of the categories)        0.162791\n2 (A little of the categories)    0.116279\n1 (None of the categories)        0.023256\nName: 15. To what extent can the categories of UI issues serve as a guideline to help you better communicate with team members?, dtype: float64\n"
    }
   ],
   "source": [
    "# 有用性\n",
    "useful_1 = data[\"14. To what extent do you think categorizing the questions in user reviews can help you better identify the true intentions of users and improve the app UI?\"]\n",
    "useful_2 = data[\"15. To what extent can the categories of UI issues serve as a guideline to help you better communicate with team members?\"]\n",
    "useful_1.value_counts()\n",
    "useful_1_transform = {\n",
    "    \"Maybe useful\": \"2 (Maybe useful)\",\n",
    "    \"3 (Neural)\": \"3 (Neutral)\",\n",
    "    \"Neural\": \"3 (Neutral)\",\n",
    "    \"Useful\": \"4 (Useful)\"\n",
    "}\n",
    "useful_1_count = useful_1.replace(useful_1_transform).value_counts()\n",
    "useful_2_transform = {\n",
    "    \"Yes\": \"5 (Most of the categories)\",\n",
    "    \"I'm not sure. There may be many borderline cases.\": \"3 (Some of the categories)\",\n",
    "    \"No\": \"1 (None of the categories)\",\n",
    "    \"Sad but I am a lonely developer\": \"3 (Some of the categories)\",\n",
    "    \"I work on my own\":  \"3 (Some of the categories)\",\n",
    "    \"I'm an individual developer\": \"3 (Some of the categories)\"\n",
    "}\n",
    "useful_2_count = useful_2.replace(useful_2_transform).value_counts()\n",
    "print(useful_1_count)\n",
    "print(useful_1_count / useful_1_count.sum())\n",
    "print(useful_2_count)\n",
    "print(useful_2_count / useful_2_count.sum())"
   ]
  },
  {
   "cell_type": "code",
   "execution_count": 20,
   "metadata": {
    "tags": []
   },
   "outputs": [
    {
     "output_type": "stream",
     "name": "stdout",
     "text": "Response to user reviews in App Store;Email                                                                17\nResponse to user reviews in App Store                                                                       9\nEmail                                                                                                       5\nNever                                                                                                       3\nEmail;Instant messaging app (e.g., WhatsApp);Github issues                                                  1\nResponse to user reviews in App Store;Email;Instant messaging app (e.g., WhatsApp)                          1\nResponse to user reviews in App Store;Instant messaging app (e.g., WhatsApp)                                1\nResponse to user reviews in App Store;Email;GitHub issues                                                   1\nInstant messaging app (e.g., WhatsApp)                                                                      1\nResponse to user reviews in App Store;Email;Instant messaging app (e.g., WhatsApp);Github bugs reporter     1\nIt's not my job to deal with user reviews.                                                                  1\nEmail;Instant messaging app (e.g., WhatsApp);GitHub issues                                                  1\nEmail;Instant messaging app (e.g., WhatsApp);GitHub issues (since we're open source) / 开源程序当然有issues啦       1\nName: 16. In which way do you communicate with users to solve app UI issues? (select all that apply), dtype: int64\nresponse           30\nemail              28\ninstant message     7\ngithub issue        4\nNever               4\ndtype: int64\nresponse           0.697674\nemail              0.651163\ninstant message    0.162791\ngithub issue       0.093023\nNever              0.093023\ndtype: float64\n"
    }
   ],
   "source": [
    "# 与用户的联系方式\n",
    "interaction_user = data[\"16. In which way do you communicate with users to solve app UI issues? (select all that apply)\"]\n",
    "print(interaction_user.value_counts())\n",
    "interaction_counts = pd.Series({\n",
    "    \"response\": 0,\n",
    "    \"email\": 0,\n",
    "    \"instant message\": 0,\n",
    "    \"github issue\": 0,\n",
    "    \"Never\": 0,\n",
    "})\n",
    "for item in interaction_user:\n",
    "    if \"Email\" in item:\n",
    "        interaction_counts[\"email\"] += 1\n",
    "    if \"Response to user reviews in App Store\" in item:\n",
    "        interaction_counts[\"response\"] += 1\n",
    "    if \"Instant messaging app (e.g., WhatsApp)\" in item:\n",
    "        interaction_counts[\"instant message\"] += 1\n",
    "    if \"GitHub issues\" in item or \"Github bugs\" in item:\n",
    "        interaction_counts[\"github issue\"] += 1\n",
    "    if \"Never\" in item or \"It's not my job to deal with user reviews.\" in item:\n",
    "        interaction_counts[\"Never\"] += 1\n",
    "print(interaction_counts)\n",
    "print(interaction_counts / 43)"
   ]
  },
  {
   "cell_type": "code",
   "execution_count": 37,
   "metadata": {
    "tags": []
   },
   "outputs": [
    {
     "output_type": "stream",
     "name": "stdout",
     "text": "1 (Totally disagree)     0\n2 (Disagree)             1\n3 (Neutral)              2\n4 (Agree)               21\n5 (Totally agree)       18\nNot sure                 1\nName: 17. Do you agree with the following statements? [Communication with the users can help users better understand the design style of my app UI.], dtype: int64\n1 (Totally disagree)    0.000000\n2 (Disagree)            0.023256\n3 (Neutral)             0.046512\n4 (Agree)               0.488372\n5 (Totally agree)       0.418605\nNot sure                0.023256\nName: 17. Do you agree with the following statements? [Communication with the users can help users better understand the design style of my app UI.], dtype: float64\n1 (Totally disagree)     1\n2 (Disagree)             4\n3 (Neutral)             10\n4 (Agree)               23\n5 (Totally agree)        4\nNot sure                 1\nName: 17. Do you agree with the following statements? [I have trouble when guiding users to get used to the interaction of app UI. (e.g., gestures)], dtype: int64\n1 (Totally disagree)    0.023256\n2 (Disagree)            0.093023\n3 (Neutral)             0.232558\n4 (Agree)               0.534884\n5 (Totally agree)       0.093023\nNot sure                0.023256\nName: 17. Do you agree with the following statements? [I have trouble when guiding users to get used to the interaction of app UI. (e.g., gestures)], dtype: float64\n1 (Totally disagree)     1\n2 (Disagree)             3\n3 (Neutral)              3\n4 (Agree)               22\n5 (Totally agree)       11\nNot sure                 3\nName: 17. Do you agree with the following statements? [Adding more dimensional ratings to the app market can help me better improve the app UI. (e.g., ratings for appearance or interaction)], dtype: int64\n1 (Totally disagree)    0.023256\n2 (Disagree)            0.069767\n3 (Neutral)             0.069767\n4 (Agree)               0.511628\n5 (Totally agree)       0.255814\nNot sure                0.069767\nName: 17. Do you agree with the following statements? [Adding more dimensional ratings to the app market can help me better improve the app UI. (e.g., ratings for appearance or interaction)], dtype: float64\n"
    }
   ],
   "source": [
    "statements_1 = data[\"17. Do you agree with the following statements? [Communication with the users can help users better understand the design style of my app UI.]\"].fillna(\"4 (Agree)\")\n",
    "statements_2 = data[\"17. Do you agree with the following statements? [I have trouble when guiding users to get used to the interaction of app UI. (e.g., gestures)]\"].fillna(\"4 (Agree)\")\n",
    "statements_3 = data[\"17. Do you agree with the following statements? [Adding more dimensional ratings to the app market can help me better improve the app UI. (e.g., ratings for appearance or interaction)]\"].fillna(\"4 (Agree)\")\n",
    "statement_transform = {\n",
    "    \"3 (Neural)\": \"3 (Neutral)\"\n",
    "}\n",
    "statements_1.replace(statement_transform, inplace=True)\n",
    "statements_2.replace(statement_transform, inplace=True)\n",
    "statements_3.replace(statement_transform, inplace=True)\n",
    "statements_1_count = statements_1.value_counts()\n",
    "statements_2_count = statements_2.value_counts()\n",
    "statements_3_count = statements_3.value_counts()\n",
    "statements_1_count['1 (Totally disagree)'] = statements_1_count.get('1 (Totally disagree)', 0)\n",
    "statements_2_count['1 (Totally disagree)'] = statements_2_count.get('1 (Totally disagree)', 0)\n",
    "statements_3_count['1 (Totally disagree)'] = statements_3_count.get('1 (Totally disagree)', 0)\n",
    "statements_1_count = statements_1_count.reindex(index = [\"1 (Totally disagree)\", \"2 (Disagree)\", \"3 (Neutral)\", \"4 (Agree)\", \"5 (Totally agree)\", \"Not sure\"])\n",
    "statements_2_count = statements_2_count.reindex(index = [\"1 (Totally disagree)\", \"2 (Disagree)\", \"3 (Neutral)\", \"4 (Agree)\", \"5 (Totally agree)\", \"Not sure\"])\n",
    "statements_3_count = statements_3_count.reindex(index = [\"1 (Totally disagree)\", \"2 (Disagree)\", \"3 (Neutral)\", \"4 (Agree)\", \"5 (Totally agree)\", \"Not sure\"])\n",
    "print(statements_1_count)\n",
    "print(statements_1_count / 43)\n",
    "print(statements_2_count)\n",
    "print(statements_2_count / 43)\n",
    "print(statements_3_count)\n",
    "print(statements_3_count / 43)"
   ]
  },
  {
   "cell_type": "code",
   "execution_count": 46,
   "metadata": {
    "tags": []
   },
   "outputs": [
    {
     "output_type": "stream",
     "name": "stdout",
     "text": "6                       UI is confusing/ugly/beautiful \n11    Usually small to medium ui bug, easy to unders...\n12    It is usually easy to understand user reviews....\n13             Look for specific descriptions of issues\n19    Usually the reviews provide clear guidance for...\n20    I often have to contact the user again by emai...\n21    try to understand the key points of the report...\n25    Component location keywords(like navigation bu...\n26    I read the reviews and try to understand what ...\n31                   Handson user test and observation \n36    Friendliness and ease of use is the criteria, ...\n39    Usually through GitHub issues or social media ...\n41                   Handson user test and observation \n42                                Ask for clarification\n1     I try to identify the cause for negative revie...\n6         I can't do anything if they are too abstract \n11                     Fixed them as fast as you could.\n17                              Only pick what I agree.\n19    I let them know that their issues or recommend...\n22    Fixing legitimate bugs, improving usability is...\n23    If the user is tech savvy, they often know exa...\n25    Only the reviews is prior (or urgent) and clea...\n26    I try to make improvements if possible.  Somet...\n36    Accept the proposal if it improves the UI, and...\n38    Discuss with the product manager, professional...\n1     I would like to see the results of your study ...\n2     In the e-mail that invites to participate in t...\n10    The difficult part is to fix the UI issues. An...\n11    I am more skillful in backend devs, but unders...\n21    Can you automatically highlight the different ...\n26    I do feel a better system of categorizing user...\n36    It is difficult to ensure the user gives geniu...\n38    Some of the user reviewers are not professiona...\n39    F-Droid exists and not everyone is on Google P...\ndtype: object\n34\n"
    }
   ],
   "source": [
    "open_question_1 = data[\"8. How do you identify and understand UI issues in the user reviews?  (Optional)\"]\n",
    "open_question_2 = data[\"18. According to your practical experience, how do you deal with UI issues in the user reviews? (Optional)\"]\n",
    "open_question_3 = data[\"19. Do you have any final comments or questions for us? (Optional)\"]\n",
    "open_question = pd.concat([open_question_1, open_question_2, open_question_3]).dropna()\n",
    "print(open_question.dropna())\n",
    "print(len(open_question))"
   ]
  }
 ]
}